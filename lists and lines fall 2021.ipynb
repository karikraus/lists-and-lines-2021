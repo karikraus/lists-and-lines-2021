{
 "cells": [
  {
   "cell_type": "markdown",
   "metadata": {},
   "source": [
    "### Storytelling with Code Fall 2021 / Notebook 4\n",
    "\n",
    "# Understanding Lists and Transforming Poetic Lines  \n",
    "In Python, a list is an ordered sequence of items. While a list is its own unique data type, individual elements within the list can be of different types, such as letters, words, or numbers. Many combinatorial poems make extensive use of lists. You can slice a list, sort it, loop through it, add and remove items from it, and otherwise manipulate it. Understanding lists is therefore crucial for advancing your practice as a computational poet. One of the things that can sometimes make working with lists challenging is that they can behave so much like strings, especially when the individual items are text of some kind. This is because strings and lists, while distinct, are nonetheless united in both being types of *sequences*: successions or chains of elements. As such, they share many similarities. As we shall see, lists and strings also work synergistically in poetry generation. For these reasons, we'll begin this notebook with a quick review of the string data type that we learned about in our previous notebook before moving on to lists.\n",
    "\n",
    "This notebook is inspired by Allison Parrish's excellent tutorial: https://github.com/aparrish/rwet/blob/master/understanding-lists-manipulating-lines.ipynb. I've specifically tried to capture and preserve Parrish's foregrounding of how lists and strings can interact when creating text generators. The organization thus adheres closely to hers, while the explanations and most of the examples are mine. I've also made use of a fragment of code from Nick Montfort's [reimplementation of Alison Knowles' \"House of Dust\"](https://nickm.com/memslam/a_house_of_dust.html). Finally, I've followed Parrish in using [\"Sea Rose\" by H.D.](https://www.poetryfoundation.org/poems/48188/sea-rose) to illustrate some key concepts."
   ]
  },
  {
   "cell_type": "markdown",
   "metadata": {},
   "source": [
    "## List Preview\n",
    "Before taking a second look at strings, let's preview what a list looks like:"
   ]
  },
  {
   "cell_type": "code",
   "execution_count": null,
   "metadata": {},
   "outputs": [],
   "source": [
    "ships = [\"schooner\", \"barque\", \"xebec\", \"cutter\", \"clipper\"]"
   ]
  },
  {
   "cell_type": "code",
   "execution_count": null,
   "metadata": {},
   "outputs": [],
   "source": [
    "letters = [\"h\", \"o\", \"u\", \"s\", \"e\", \"o\", \"f\", \"d\", \"u\", \"s\", \"t\"]"
   ]
  },
  {
   "cell_type": "code",
   "execution_count": null,
   "metadata": {},
   "outputs": [],
   "source": [
    "fictional_addresses = [\"221B Baker St.\", \"Apartment 5A, 129 W. 81st St.\", \"4 Privet Drive, Little Whinging, Surrey\", \"890 Fifth Avenue\"]"
   ]
  },
  {
   "cell_type": "code",
   "execution_count": null,
   "metadata": {},
   "outputs": [],
   "source": [
    "famous_numbers = [3.141592, 1.6180, 186282] #pi, golden ratio, speed of light"
   ]
  },
  {
   "cell_type": "markdown",
   "metadata": {},
   "source": [
    "Note that square brackets signal to both computer and human readers alike that we're dealing with a list.  \n",
    "\n",
    "Taken collectively, the above examples demonsrate that individual list items can vary by linguistic unit (e.g., letter, word, phrase) and by data type (e.g., string, integer, float). You can also mix more than one data type or linguistic unit within a single list:"
   ]
  },
  {
   "cell_type": "code",
   "execution_count": null,
   "metadata": {},
   "outputs": [],
   "source": [
    "mixed_data = [\"xebec\", \"211B Baker St.\", 3.141592]"
   ]
  },
  {
   "cell_type": "code",
   "execution_count": null,
   "metadata": {},
   "outputs": [],
   "source": [
    "mixed_data"
   ]
  },
  {
   "cell_type": "markdown",
   "metadata": {},
   "source": [
    "Remember that you can apply the \"type\" function to an object to check its data type:"
   ]
  },
  {
   "cell_type": "code",
   "execution_count": null,
   "metadata": {},
   "outputs": [],
   "source": [
    "type(ships)"
   ]
  },
  {
   "cell_type": "code",
   "execution_count": null,
   "metadata": {},
   "outputs": [],
   "source": [
    "type(letters)"
   ]
  },
  {
   "cell_type": "code",
   "execution_count": null,
   "metadata": {},
   "outputs": [],
   "source": [
    "type(fictional_addresses)"
   ]
  },
  {
   "cell_type": "code",
   "execution_count": null,
   "metadata": {},
   "outputs": [],
   "source": [
    "type(famous_numbers)"
   ]
  },
  {
   "cell_type": "markdown",
   "metadata": {},
   "source": [
    "The key thing to note is that despite the internal data variety, the Python interactive interpreter parses a collection of items between square brackets as a list. "
   ]
  },
  {
   "cell_type": "markdown",
   "metadata": {},
   "source": [
    "## Strings Again \n",
    "Let's refresh our memories with regards to strings. Recall that quotation marks--rather than square brackets--signal that the data we're dealing with is a string. Here's a string assigned to a variable:"
   ]
  },
  {
   "cell_type": "code",
   "execution_count": null,
   "metadata": {},
   "outputs": [],
   "source": [
    "scent_of_rain = \"petrichor\""
   ]
  },
  {
   "cell_type": "markdown",
   "metadata": {},
   "source": [
    "\"Petrichor\" is a word that refers to the wonderful smell of rain. You can learn more about it [here](https://www.merriam-webster.com/words-at-play/words-were-watching-petrichor-slang-definition)"
   ]
  },
  {
   "cell_type": "markdown",
   "metadata": {},
   "source": [
    "We can use indexing to retrieve individual characters:"
   ]
  },
  {
   "cell_type": "code",
   "execution_count": null,
   "metadata": {},
   "outputs": [],
   "source": [
    "scent_of_rain[1]"
   ]
  },
  {
   "cell_type": "code",
   "execution_count": null,
   "metadata": {},
   "outputs": [],
   "source": [
    "scent_of_rain[-2]"
   ]
  },
  {
   "cell_type": "markdown",
   "metadata": {},
   "source": [
    "And of course we can check the data type using the \"type\" function:"
   ]
  },
  {
   "cell_type": "code",
   "execution_count": null,
   "metadata": {},
   "outputs": [],
   "source": [
    "type(scent_of_rain)"
   ]
  },
  {
   "cell_type": "markdown",
   "metadata": {},
   "source": [
    "Recall that in addition to retrieving an individual character, we can extract a substring using positional indexing:"
   ]
  },
  {
   "cell_type": "code",
   "execution_count": null,
   "metadata": {},
   "outputs": [],
   "source": [
    "scent_of_rain[-5:-2]"
   ]
  },
  {
   "cell_type": "markdown",
   "metadata": {},
   "source": [
    "Here are two built-in Python functions with string applications that we haven't previously looked at:"
   ]
  },
  {
   "cell_type": "code",
   "execution_count": null,
   "metadata": {},
   "outputs": [],
   "source": [
    "max(scent_of_rain) #petrichor"
   ]
  },
  {
   "cell_type": "code",
   "execution_count": null,
   "metadata": {},
   "outputs": [],
   "source": [
    "min(scent_of_rain)"
   ]
  },
  {
   "cell_type": "markdown",
   "metadata": {},
   "source": [
    "The max() function returns the \"largest\" value in a string, and the min() function returns the \"smallest\", whether in alphabetic or lexicographic terms. The letter \"z\", for example, would be considered the \"largest\" letter in the alphabet, while \"a\" would be considered the smallest. These functions can also be applied to numbers, returning the quantitatively largest and smallest values. "
   ]
  },
  {
   "cell_type": "markdown",
   "metadata": {},
   "source": [
    "## The Main Event: Lists \n",
    "There are techniques for converting data from one type into another. We can convert a string into a list of characters using the list() function:"
   ]
  },
  {
   "cell_type": "code",
   "execution_count": null,
   "metadata": {},
   "outputs": [],
   "source": [
    "list(scent_of_rain)"
   ]
  },
  {
   "cell_type": "markdown",
   "metadata": {},
   "source": [
    "We can assign that expression to a variable:"
   ]
  },
  {
   "cell_type": "code",
   "execution_count": null,
   "metadata": {},
   "outputs": [],
   "source": [
    "rain_letters = list(scent_of_rain)"
   ]
  },
  {
   "cell_type": "code",
   "execution_count": null,
   "metadata": {},
   "outputs": [],
   "source": [
    "rain_letters"
   ]
  },
  {
   "cell_type": "markdown",
   "metadata": {},
   "source": [
    "Let's check the data type:"
   ]
  },
  {
   "cell_type": "code",
   "execution_count": null,
   "metadata": {},
   "outputs": [],
   "source": [
    "type(rain_letters)"
   ]
  },
  {
   "cell_type": "markdown",
   "metadata": {},
   "source": [
    "Positional indexing applies to lists as well as strings. "
   ]
  },
  {
   "cell_type": "code",
   "execution_count": null,
   "metadata": {},
   "outputs": [],
   "source": [
    "rain_scent_string = \"petrichor\"\n",
    "rain_scent_list = [\"p\", \"e\", \"t\", \"r\", \"i\", \"c\", \"h\", \"o\", \"r\"]"
   ]
  },
  {
   "cell_type": "code",
   "execution_count": null,
   "metadata": {},
   "outputs": [],
   "source": [
    "rain_scent_string[0]"
   ]
  },
  {
   "cell_type": "code",
   "execution_count": null,
   "metadata": {},
   "outputs": [],
   "source": [
    "rain_scent_list[0]"
   ]
  },
  {
   "cell_type": "code",
   "execution_count": null,
   "metadata": {},
   "outputs": [],
   "source": [
    "rain_scent_string[-2]"
   ]
  },
  {
   "cell_type": "code",
   "execution_count": null,
   "metadata": {},
   "outputs": [],
   "source": [
    "rain_scent_list[-2]"
   ]
  },
  {
   "cell_type": "code",
   "execution_count": null,
   "metadata": {},
   "outputs": [],
   "source": [
    "rain_scent_string[0:3]"
   ]
  },
  {
   "cell_type": "code",
   "execution_count": null,
   "metadata": {},
   "outputs": [],
   "source": [
    "rain_scent_list[0:3]"
   ]
  },
  {
   "cell_type": "markdown",
   "metadata": {},
   "source": [
    "The max() and min() functions apply to both strings and lists. We've already seen them in action with strings; here's how they work with lists:"
   ]
  },
  {
   "cell_type": "code",
   "execution_count": null,
   "metadata": {},
   "outputs": [],
   "source": [
    "max(rain_scent_list)"
   ]
  },
  {
   "cell_type": "code",
   "execution_count": null,
   "metadata": {},
   "outputs": [],
   "source": [
    "min(rain_scent_list)"
   ]
  },
  {
   "cell_type": "markdown",
   "metadata": {},
   "source": [
    "You can use the sorted() function to order the characters in a string alphabetically:"
   ]
  },
  {
   "cell_type": "code",
   "execution_count": null,
   "metadata": {},
   "outputs": [],
   "source": [
    "sorted(rain_scent_list)"
   ]
  },
  {
   "cell_type": "markdown",
   "metadata": {},
   "source": [
    "The default mode returns a list in ascending order. With an added \"reverse\" parameter, you can alternatively specify descending order:"
   ]
  },
  {
   "cell_type": "code",
   "execution_count": null,
   "metadata": {},
   "outputs": [],
   "source": [
    "sorted(rain_scent_list, reverse = True)"
   ]
  },
  {
   "cell_type": "markdown",
   "metadata": {},
   "source": [
    "You can also apply the sorted() function to lists containing numbers to arrange them in ascending or descending order:"
   ]
  },
  {
   "cell_type": "code",
   "execution_count": null,
   "metadata": {},
   "outputs": [],
   "source": [
    "numbers = [1, 2, 3, 4, 5]"
   ]
  },
  {
   "cell_type": "code",
   "execution_count": null,
   "metadata": {},
   "outputs": [],
   "source": [
    "sorted(numbers, reverse = True)"
   ]
  },
  {
   "cell_type": "markdown",
   "metadata": {},
   "source": [
    "Some functions apply to lists containing data of exclusively one type or another. The sum() function, for example, which performs addition, presupposes a list of numbers rather than letters or words. Note that you'll get an error message if you try to use it with a list containing strings:"
   ]
  },
  {
   "cell_type": "code",
   "execution_count": null,
   "metadata": {},
   "outputs": [],
   "source": [
    "sum(numbers)"
   ]
  },
  {
   "cell_type": "code",
   "execution_count": null,
   "metadata": {},
   "outputs": [],
   "source": [
    "sum(rain_scent_list)"
   ]
  },
  {
   "cell_type": "markdown",
   "metadata": {},
   "source": [
    "The sum() function illustrates a fundamental duality at work in the organization of data types: while an ordered collection of items is a list, the individual elements within that list preserve separate identities as strings, integers, floats, etc. Those primary identities aren't effaced just because the items also participate in a secondary group identity. On the contrary, their duality is signaled at the level of syntax: a word within a list, for example, is enclosed within quotation marks to indicate its individual status as a string, while simultaneously being embedded in square brackets alongside other items to indicate its membership in a list. Numbers, in turn, differentiate themselves from letters by foregoing the quotation marks. The Python interactive interpreter is constantly dealing with list elements at both syntactical levels. In the case of the sum() function, for example, it first assesses the data type of individual elements to determine if they're numerical before subsequently adding them all together at the list level. This double structure is a hallmark of lists."
   ]
  },
  {
   "cell_type": "markdown",
   "metadata": {},
   "source": [
    "### Splitting Strings into Lists of Lines and Words\n",
    "We've looked at how we can use the list() function to convert a string into a list of letters. But what if we want to convert a string into a list of some other unit, such as *words* or *lines*? For those we have the split() and splitlines() methods:"
   ]
  },
  {
   "cell_type": "code",
   "execution_count": null,
   "metadata": {},
   "outputs": [],
   "source": [
    "harper = \"\"\"I felt it when the glow of life\n",
    "Was warm upon my cheek,\n",
    "In mornful cadence to my heart,\n",
    "It solemnly did speak.\"\"\""
   ]
  },
  {
   "cell_type": "code",
   "execution_count": null,
   "metadata": {},
   "outputs": [],
   "source": [
    "print(harper)"
   ]
  },
  {
   "cell_type": "code",
   "execution_count": null,
   "metadata": {},
   "outputs": [],
   "source": [
    "harper.splitlines()"
   ]
  },
  {
   "cell_type": "markdown",
   "metadata": {},
   "source": [
    "That gave us a list of lines. Now let's obtain a list of words:"
   ]
  },
  {
   "cell_type": "code",
   "execution_count": null,
   "metadata": {},
   "outputs": [],
   "source": [
    "harper.split()"
   ]
  },
  {
   "cell_type": "markdown",
   "metadata": {},
   "source": [
    "This stanza is from a poem entitled \"Presentiment\" by Frances Harper (1825-1911), a Black poet, abolitionist, suffragist, and teacher. *Forest Leaves* (1845), the collection in which \"Presentiment\" was originally published, was rediscovered by Johanna Ortner a decade or so ago in Baltimore, Maryland, where Harper was born and raised. You can read more about the book's recovery [here](http://commonplace.online/article/lost-no-more-recovering-frances-ellen-watkins-harpers-forest-leaves/).  \n",
    "\n",
    "The split() method automatically splits a string into individual words by using the spaces between them as a separator. You can use other delimiters to split at alternative places within the text. In the following example, I've divided Harper's stanza into three parts by specifying a comma rather than whitespace as the separator. Every time the system encounters a comma, it splits the text:"
   ]
  },
  {
   "cell_type": "code",
   "execution_count": null,
   "metadata": {},
   "outputs": [],
   "source": [
    "harper_comma = harper.split(\",\")"
   ]
  },
  {
   "cell_type": "code",
   "execution_count": null,
   "metadata": {},
   "outputs": [],
   "source": [
    "harper_comma"
   ]
  },
  {
   "cell_type": "markdown",
   "metadata": {},
   "source": [
    "Note that the chosen delimiter is inserted between quotation marks in the parentheses following \"split\" in the code cell. We now have a list of three elements, each of which consists of one or two lines from the original poetic stanza. This example combined with the others collectively illustrate that the string units comprising elements in a list can vary from individual letters to words to longer textual fragments or structures. Note that a comma separates each list element. We can retrieve individual elements from this list using indexing:"
   ]
  },
  {
   "cell_type": "code",
   "execution_count": null,
   "metadata": {},
   "outputs": [],
   "source": [
    "print(harper_comma[0])\n",
    "print(harper_comma[1])\n",
    "print(harper_comma[2])"
   ]
  },
  {
   "cell_type": "markdown",
   "metadata": {},
   "source": [
    "Let's use the type() function to verify the data types for harper_comma as well as the elements within harper_comma. Try to predict the data types before you run the code cells:"
   ]
  },
  {
   "cell_type": "code",
   "execution_count": null,
   "metadata": {},
   "outputs": [],
   "source": [
    "type(harper_comma)"
   ]
  },
  {
   "cell_type": "code",
   "execution_count": null,
   "metadata": {},
   "outputs": [],
   "source": [
    "type(harper_comma[0])"
   ]
  },
  {
   "cell_type": "markdown",
   "metadata": {},
   "source": [
    "### Converting Lists into Strings   \n",
    "When we're modifying existing poems to create new poems, we'll often want to convert the original poem from a string into a list, modify the list elements in some way, and then convert them back to a string. We've now seen how to do the first part of that sequence--convert a string into a list--but how do we move in the other direction, converting a list into a string? The solution is to use the join() method. Let's look at an example. First, we'll assign a list to a variable:"
   ]
  },
  {
   "cell_type": "code",
   "execution_count": null,
   "metadata": {},
   "outputs": [],
   "source": [
    "autumn_harvest = [\"pumpkins\", \"squash\", \"apples\", \"corn\", \"grapes\"]"
   ]
  },
  {
   "cell_type": "markdown",
   "metadata": {},
   "source": [
    "Next we'll use the join method to convert that list back into a string, inserting the conjunction \"and\" between each element:"
   ]
  },
  {
   "cell_type": "code",
   "execution_count": null,
   "metadata": {},
   "outputs": [],
   "source": [
    "\" and \".join(autumn_harvest)"
   ]
  },
  {
   "cell_type": "markdown",
   "metadata": {},
   "source": [
    "What to notice: the join method involves gluing the different list elements together to create a continous string. The word, letters, or characters that appear in front of \".join\" serve as the connective tissue between each of those elements. Let's take the same list and glue them together with a leaf emoji instead of the conjunction \"and\":"
   ]
  },
  {
   "cell_type": "code",
   "execution_count": null,
   "metadata": {},
   "outputs": [],
   "source": [
    " \"🍁\".join(autumn_harvest)"
   ]
  },
  {
   "cell_type": "markdown",
   "metadata": {},
   "source": [
    "We can assign that expression to a variable:"
   ]
  },
  {
   "cell_type": "code",
   "execution_count": null,
   "metadata": {},
   "outputs": [],
   "source": [
    "autumn_harvest_join = \"🍁\".join(autumn_harvest)"
   ]
  },
  {
   "cell_type": "code",
   "execution_count": null,
   "metadata": {},
   "outputs": [],
   "source": [
    "autumn_harvest_join"
   ]
  },
  {
   "cell_type": "markdown",
   "metadata": {},
   "source": [
    "We can also print the string, which will remove the quotation marks around it:"
   ]
  },
  {
   "cell_type": "code",
   "execution_count": null,
   "metadata": {},
   "outputs": [],
   "source": [
    "print(autumn_harvest_join)"
   ]
  },
  {
   "cell_type": "markdown",
   "metadata": {},
   "source": [
    "Remember that the variable \"autumn_harvest\" holds the list of autumn fruits and vegetables. If we don't want to assign the list to a variable, we could alternatively write the expression that converts it into a string like this:"
   ]
  },
  {
   "cell_type": "code",
   "execution_count": null,
   "metadata": {},
   "outputs": [],
   "source": [
    " \"🍁\".join([\"pumpkins\", \"squash\", \"apples\", \"corn\", \"grapes\"])"
   ]
  },
  {
   "cell_type": "markdown",
   "metadata": {},
   "source": [
    "We could also assign the leaf emoji to a variable and then plug in the variable rather than the emoji in the slot in front of .join in the above expression. Create a new cell and try it out. "
   ]
  },
  {
   "cell_type": "markdown",
   "metadata": {},
   "source": [
    "EXERCISE: Create a new cell and glue together the autumn harvest list elements with [another emoji](https://getemoji.com/) of your choice (you can just copy-and-paste the emoji)"
   ]
  },
  {
   "cell_type": "markdown",
   "metadata": {},
   "source": [
    "You can also convert the list elements to a string by specifying a blank space as the connector:"
   ]
  },
  {
   "cell_type": "code",
   "execution_count": null,
   "metadata": {},
   "outputs": [],
   "source": [
    "harvest = \" \".join([\"pumpkins\", \"squash\", \"apples\", \"corn\", \"grapes\"])"
   ]
  },
  {
   "cell_type": "markdown",
   "metadata": {},
   "source": [
    "### Adding and Removing List Items  \n",
    "You can add an item to a list using the append() method. Let's add a new seasonal fruit to our autumn harvest:"
   ]
  },
  {
   "cell_type": "code",
   "execution_count": null,
   "metadata": {},
   "outputs": [],
   "source": [
    "autumn_harvest = [\"pumpkins\", \"squash\", \"apples\", \"corn\", \"grapes\"]"
   ]
  },
  {
   "cell_type": "code",
   "execution_count": null,
   "metadata": {},
   "outputs": [],
   "source": [
    "autumn_harvest.append(\"figs\")"
   ]
  },
  {
   "cell_type": "code",
   "execution_count": null,
   "metadata": {},
   "outputs": [],
   "source": [
    "autumn_harvest"
   ]
  },
  {
   "cell_type": "markdown",
   "metadata": {},
   "source": [
    "Note that after adding \"figs\" using append(), you need to run the variable name again to see the updated list (new items are always tacked on at the end). If you want to add more than one item at a time to a list, use the extend() method:"
   ]
  },
  {
   "cell_type": "code",
   "execution_count": null,
   "metadata": {},
   "outputs": [],
   "source": [
    "autumn_harvest.extend([\"beans\", \"broccoli\"])"
   ]
  },
  {
   "cell_type": "code",
   "execution_count": null,
   "metadata": {},
   "outputs": [],
   "source": [
    "autumn_harvest"
   ]
  },
  {
   "cell_type": "markdown",
   "metadata": {},
   "source": [
    "The extend() method, as you can see above, differs syntactically from append(): your new items must be embedded inside square brackets, following familiar list conventions.  \n",
    "\n",
    "There are two approaches to removing list items. The first is the remove() method:"
   ]
  },
  {
   "cell_type": "code",
   "execution_count": null,
   "metadata": {},
   "outputs": [],
   "source": [
    "autumn_harvest.remove(\"corn\")"
   ]
  },
  {
   "cell_type": "code",
   "execution_count": null,
   "metadata": {},
   "outputs": [],
   "source": [
    "autumn_harvest"
   ]
  },
  {
   "cell_type": "markdown",
   "metadata": {},
   "source": [
    "The second method uses pop() to specify an index position for the item you wish to remove. The syntax can be generalized as follows: *list or variable name for list*.pop*(position of item to be removed)*  \n",
    "\n",
    "Let's remove \"figs\" from the list, whose current indexical position is \"4\" (counting from left to right, starting with zero, in conformance with the string indexing methods we've learned):"
   ]
  },
  {
   "cell_type": "code",
   "execution_count": null,
   "metadata": {},
   "outputs": [],
   "source": [
    "autumn_harvest.pop(4)"
   ]
  },
  {
   "cell_type": "markdown",
   "metadata": {},
   "source": [
    "Note that the pop() expression evaluates to the list item specified by the index position, in this case \"figs\". You'll need to run the variable name \"autumn_harvest\" again in a code cell to see the updated list minus the expunged fruit:"
   ]
  },
  {
   "cell_type": "code",
   "execution_count": null,
   "metadata": {},
   "outputs": [],
   "source": [
    "autumn_harvest"
   ]
  },
  {
   "cell_type": "markdown",
   "metadata": {},
   "source": [
    "## Random Library\n",
    "\n",
    "Allison Parrish [articulates a helpful workflow](https://github.com/aparrish/rwet/blob/master/understanding-lists-manipulating-lines.ipynb) for writing code that creatively traffics back and forth between strings and lists. Here are her steps:\n",
    "\n",
    ">1. Split a string to get a list of units (usually words).\n",
    ">2. Use some of the list operations discussed above to modify or slice the list.\n",
    ">3. Join that list back together into a string.\n",
    ">4. Do something with that string (e.g., print it out).\n",
    ">5. With this in mind, here's a program that splits a string into words, randomizes the order of the words, then prints out the results:"
   ]
  },
  {
   "cell_type": "code",
   "execution_count": null,
   "metadata": {},
   "outputs": [],
   "source": [
    "import random #from Allison Parrish's Lists and Lines tutorial\n",
    "text = \"it was a dark and stormy night\"\n",
    "words = text.split()\n",
    "random.shuffle(words)\n",
    "text2 = ' '.join(words) #I've altered Parrish's original variable name in this line\n",
    "print(text)"
   ]
  },
  {
   "cell_type": "markdown",
   "metadata": {},
   "source": [
    "Note that Parrish's code first converts the string \"it was a dark and stormy night\" to a list of words **before** applying shuffle() from the random library. Attempting to apply it to the original input string will raise a programming error:"
   ]
  },
  {
   "cell_type": "code",
   "execution_count": null,
   "metadata": {},
   "outputs": [],
   "source": [
    "random.shuffle(text)"
   ]
  },
  {
   "cell_type": "markdown",
   "metadata": {},
   "source": [
    "random.shuffle() operates on lists not strings, which is why artful code that shuttles back and forth between strings and lists is so important for combinatorial poetry that includes chance operations. The penultimate line of Parrish's code knits the shuffled list elements back together using the join() method before printing out the new string. Take note, too, of how Parrish is making use of variables, first assinging the string \"it was a dark and stormy night\" to the \"text\" variable, subsequently using the split() method to generate a list of words, which are in turn assigned to the \"words\" variable. It is these list elements held by \"word\" that are randomly shuffled before converting everything back to a string. \n",
    "\n",
    "We know from Scott Rettberg's *Electronic Literature* that chance, randomization, and aleatory techniques are cornerstones of early combinatorial poetry. And we've already seen how Nick Montfort's reimplementation of Alison Knowles' \"House of Dust\" draws on the Python random library to continously output new stanzas. Let's take a closer look at how randomization works in Python so that we can creatively leverage it in our own work: "
   ]
  },
  {
   "cell_type": "markdown",
   "metadata": {},
   "source": [
    "#### Lists and randomness\n",
    "\n",
    "Python's random library contains three helpful functions that can be used for text generators:\n",
    "1. random.shuffle() As we've already seen, this function will randomly reorganize the elements of a list\n",
    "2. random.choice() This function returns a random element from a list\n",
    "3. random.sample() This function returns a random sample of elements from a list  \n",
    "\n",
    "Here's how each works:"
   ]
  },
  {
   "cell_type": "code",
   "execution_count": null,
   "metadata": {},
   "outputs": [],
   "source": [
    "import random\n",
    "materials = ['SAND', 'DUST', 'LEAVES', 'PAPER', 'TIN', 'ROOTS', 'BRICK', 'STONE', 'DISCARDED CLOTHING', 'GLASS', 'STEEL', 'PLASTIC', 'MUD', 'BROKEN DISHES', 'WOOD', 'STRAW', 'WEEDS']\n",
    "random.shuffle(materials)\n",
    "materials"
   ]
  },
  {
   "cell_type": "code",
   "execution_count": null,
   "metadata": {},
   "outputs": [],
   "source": [
    "import random\n",
    "random.choice(materials)"
   ]
  },
  {
   "cell_type": "code",
   "execution_count": null,
   "metadata": {},
   "outputs": [],
   "source": [
    "import random\n",
    "random.sample(materials, 3)"
   ]
  },
  {
   "cell_type": "markdown",
   "metadata": {},
   "source": [
    "Note that random.sample() takes two arguments rather than one: the list itself (or a variable holding the elements of the list, in this case \"materials\"), followed by a number indicating the sample size. Try increasing and decreasing the number to get a feel for how it works."
   ]
  },
  {
   "cell_type": "markdown",
   "metadata": {},
   "source": [
    "## List Comprehensions: Applying Transformations to Lists  \n",
    "\n",
    "When writing code for combinatorial poetry, it can be helpful to loop through each element in a list to either filter some elements or transform them in some way. List comprehensions provide a compact syntax for accomplishing that.  \n",
    "\n",
    "If we abstract away from the details, the component parts of the syntax can be translated as something like this:  \n",
    "\n",
    "**newlist = transformation of list items from original list if (optionally) some specified condition is met.** \n",
    "\n",
    "Since elements in our lists will customarily consist of strings, we can perform the various string methods we previously learned about in our \"Strings\" notebook. As one example, we might convert a poem (string) into a collection of lines (list), then use string methods to cycle through each line in search of a specific word. If that word is found, we can use the replace() method to change that word to something else, the upper() method to capitalize it, the lower() method to lower case it, and so forth.\n",
    "\n",
    "Let's work with the \"Sea Rose\" poem to illustrate list comprehensions. In the first example, we'll simply tell Python to open the file containing the poem and capture each line as a list element. We'll assign this list of lines to the variable \"text\":"
   ]
  },
  {
   "cell_type": "code",
   "execution_count": null,
   "metadata": {},
   "outputs": [],
   "source": [
    "text = [line for line in open(\"sea_rose.txt\")]"
   ]
  },
  {
   "cell_type": "code",
   "execution_count": null,
   "metadata": {},
   "outputs": [],
   "source": [
    "text"
   ]
  },
  {
   "cell_type": "markdown",
   "metadata": {},
   "source": [
    "Recall that in the Strings notebook we learned the following method for opening and reading a poem:"
   ]
  },
  {
   "cell_type": "code",
   "execution_count": null,
   "metadata": {},
   "outputs": [],
   "source": [
    "poem = open(\"sea_rose.txt\").read()"
   ]
  },
  {
   "cell_type": "code",
   "execution_count": null,
   "metadata": {},
   "outputs": [],
   "source": [
    "poem"
   ]
  },
  {
   "cell_type": "markdown",
   "metadata": {},
   "source": [
    "In both cases the newline code \"\\n\" preserves the location of line breaks. But note the ways in which the output differs for each of our two variables: the \"text\" variable encloses the entire poem as a list of lines contained between square brackets. Each line is separated from the others with a comma. The \"poem\" variable, by contrast, encloses the entire poem in single quotation marks. There are no commas separating each line from the others. The \"text\" variable holds the poem as a list of lines, while the \"poem\" variable holds it as a string. We can check this using the \"type\" function: "
   ]
  },
  {
   "cell_type": "code",
   "execution_count": null,
   "metadata": {},
   "outputs": [],
   "source": [
    "type(text)"
   ]
  },
  {
   "cell_type": "code",
   "execution_count": null,
   "metadata": {},
   "outputs": [],
   "source": [
    "type(poem)"
   ]
  },
  {
   "cell_type": "markdown",
   "metadata": {},
   "source": [
    "To get a better sense of why this data type distinction is important, let's try slicing \"text\" and \"poem\" using indexing methods and compare the differences in output:"
   ]
  },
  {
   "cell_type": "code",
   "execution_count": null,
   "metadata": {},
   "outputs": [],
   "source": [
    "text[3:9]"
   ]
  },
  {
   "cell_type": "code",
   "execution_count": null,
   "metadata": {},
   "outputs": [],
   "source": [
    "poem[3:9]"
   ]
  },
  {
   "cell_type": "markdown",
   "metadata": {},
   "source": [
    "In the first instance, the units being indexed are a list of lines; in the second, the units are sequences of characters. Positional indexing and slicing work with both strings and lists, but the units being indexed may differ. "
   ]
  },
  {
   "cell_type": "markdown",
   "metadata": {},
   "source": [
    "Because of the differences in data type, we'll also get different results applying random.sample() to the contents of each variable:"
   ]
  },
  {
   "cell_type": "code",
   "execution_count": null,
   "metadata": {},
   "outputs": [],
   "source": [
    "random.sample(text, 3)"
   ]
  },
  {
   "cell_type": "code",
   "execution_count": null,
   "metadata": {},
   "outputs": [],
   "source": [
    "random.sample(poem, 3)"
   ]
  },
  {
   "cell_type": "markdown",
   "metadata": {},
   "source": [
    "**EXERCISE: Try applying the sorted() function to the contents of both \"text\" and \"poem\" and study the differences. Include a markdown cell and write a short explanation to account for those differences.**  \n",
    "\n",
    "Now let's try something a little more advanced with list comprehensions:"
   ]
  },
  {
   "cell_type": "code",
   "execution_count": null,
   "metadata": {},
   "outputs": [],
   "source": [
    "[line[:5] for line in text]"
   ]
  },
  {
   "cell_type": "markdown",
   "metadata": {},
   "source": [
    "Can you see what's happening here? For each line of the poem, Python returns the first five characters as specified in the string indexing. Even though \"text\" holds the poem as a list, each element in the list is a string, allowing us to manipulate lines using string methods. Recall the previous discussion about the paradox of duality!"
   ]
  },
  {
   "cell_type": "code",
   "execution_count": null,
   "metadata": {},
   "outputs": [],
   "source": [
    "[\"Overwrite rose poem\" for line in text]"
   ]
  },
  {
   "cell_type": "markdown",
   "metadata": {},
   "source": [
    "The list comprehension, above, tells Python to replace each line of the poem with the string \"Overwrite rose poem\".  \n",
    "**EXERCISE: repeat the above list comprehension, but overwrite each line with something else (maybe emoji?)**"
   ]
  },
  {
   "cell_type": "markdown",
   "metadata": {},
   "source": [
    "Let's try some other string transformations using list comprehensions. Run each line of code to see what it does. Most of these string methods should be familiar to you from the \"Strings\" notebook, only now those methods are inserted in list comprehensions:"
   ]
  },
  {
   "cell_type": "code",
   "execution_count": null,
   "metadata": {},
   "outputs": [],
   "source": [
    "\n",
    "[line.upper().strip() for line in text] #strip method to remove the unsightly newline code"
   ]
  },
  {
   "cell_type": "code",
   "execution_count": null,
   "metadata": {},
   "outputs": [],
   "source": [
    "[line.replace(\"rose\", \"tulip\").strip() for line in text]"
   ]
  },
  {
   "cell_type": "markdown",
   "metadata": {},
   "source": [
    "Compare the list comprehension syntax, above, with the relevant syntax from the Strings notebook, which accomplishes the same thing:"
   ]
  },
  {
   "cell_type": "code",
   "execution_count": null,
   "metadata": {},
   "outputs": [],
   "source": [
    "print(poem.replace(\"rose\", \"tulip\"))"
   ]
  },
  {
   "cell_type": "markdown",
   "metadata": {},
   "source": [
    "Because the replace() method is case sensitive, the first \"Rose\" in the poem isn't being replaced. Let's fix that with the help of a variable and the lower() method:"
   ]
  },
  {
   "cell_type": "code",
   "execution_count": null,
   "metadata": {},
   "outputs": [],
   "source": [
    "k = [line.lower().strip() for line in text]"
   ]
  },
  {
   "cell_type": "code",
   "execution_count": null,
   "metadata": {},
   "outputs": [],
   "source": [
    "k"
   ]
  },
  {
   "cell_type": "code",
   "execution_count": null,
   "metadata": {},
   "outputs": [],
   "source": [
    "[line.replace(\"rose\", \"tulip\").strip() for line in k]"
   ]
  },
  {
   "cell_type": "markdown",
   "metadata": {},
   "source": [
    "As a refresher, here's what the syntax looks like when we're dealing with the poem as a string rather than a list of lines:"
   ]
  },
  {
   "cell_type": "code",
   "execution_count": null,
   "metadata": {},
   "outputs": [],
   "source": [
    "print(poem.lower().replace(\"rose\", \"tulip\"))"
   ]
  },
  {
   "cell_type": "markdown",
   "metadata": {},
   "source": [
    "Other things we can do with list comprehensions. In the next code cell, note how we're making use of the \"+\" operator to concatenate emoji and text to create a display where each line of the poem is flanked by roses:"
   ]
  },
  {
   "cell_type": "code",
   "execution_count": null,
   "metadata": {},
   "outputs": [],
   "source": [
    "\n",
    "[\"🌹 \" + line.strip() + \" 🌹\" for line in text]"
   ]
  },
  {
   "cell_type": "markdown",
   "metadata": {},
   "source": [
    "We can yoke multiple string methods together in a single list comprehension. The following code cell combines the strip() method with multiple instances of replace():"
   ]
  },
  {
   "cell_type": "code",
   "execution_count": null,
   "metadata": {},
   "outputs": [],
   "source": [
    "[line.strip().lower().replace(\"leaf\", \"dog\").replace(\"rose\", \"thorn\").replace(\"sand\", \"bottle\").replace(\"flower\", \"bug\") for line in text]"
   ]
  },
  {
   "cell_type": "markdown",
   "metadata": {},
   "source": [
    "Since the variable \"text\" holds the poem as a list of lines, when we use the print function, we still get an ugly list display:"
   ]
  },
  {
   "cell_type": "code",
   "execution_count": null,
   "metadata": {},
   "outputs": [],
   "source": [
    "print(text)"
   ]
  },
  {
   "cell_type": "markdown",
   "metadata": {},
   "source": [
    "Recall that we can convert a list back to a string using the join() method:"
   ]
  },
  {
   "cell_type": "code",
   "execution_count": null,
   "metadata": {},
   "outputs": [],
   "source": [
    "print(\" \".join(text))"
   ]
  },
  {
   "cell_type": "markdown",
   "metadata": {},
   "source": [
    "Filtering Lines  \n",
    "\n",
    "We don't have to necessarily apply a string transformation to every line. Using list comprehensions, we can select which lines we want to transform with filtering. Note how we're deploying the \"if\" statement in the following code cell:"
   ]
  },
  {
   "cell_type": "code",
   "execution_count": null,
   "metadata": {},
   "outputs": [],
   "source": [
    "[line for line in text if len(line) < 18]"
   ]
  },
  {
   "cell_type": "markdown",
   "metadata": {},
   "source": [
    "Only lines with less than 18 characters are returned. Let's get rid of those newline codes:"
   ]
  },
  {
   "cell_type": "code",
   "execution_count": null,
   "metadata": {},
   "outputs": [],
   "source": [
    "[line.strip() for line in text if len(line) < 18]"
   ]
  },
  {
   "cell_type": "markdown",
   "metadata": {},
   "source": [
    "Other ways to filter:"
   ]
  },
  {
   "cell_type": "code",
   "execution_count": null,
   "metadata": {},
   "outputs": [],
   "source": [
    "[line for line in text if \"rose\" in line]"
   ]
  },
  {
   "cell_type": "markdown",
   "metadata": {},
   "source": [
    "List comprehensions utilize what are called \"temporary variables\" with a short shelf life that don't have to be defined in advance. Because their scope is local and limited, we don't run into problems with ambiguity; Python simply understands that whatever temporary variable name has been called upon, it evaluates to a list element. Thus far we've been using the temporary variable \"line\" because it's descriptive and intuitive, but we could opt for something else to achieve the same results. Here let's use \"item\":"
   ]
  },
  {
   "cell_type": "code",
   "execution_count": null,
   "metadata": {},
   "outputs": [],
   "source": [
    "[item for item in text if len(item) > 7 if item.startswith(\"m\")]"
   ]
  },
  {
   "cell_type": "code",
   "execution_count": null,
   "metadata": {},
   "outputs": [],
   "source": [
    "[item for item in text if item.startswith(\"R\")]"
   ]
  },
  {
   "cell_type": "markdown",
   "metadata": {},
   "source": [
    "While list comprehensions have the virtue of being compact and economical, we can also use a more traditional \"for\" loop to iterate through each item in a list and apply string transformations. First let's open \"Sea Rose\" again and use the splitlines() method to convert the poem into a list of lines:"
   ]
  },
  {
   "cell_type": "code",
   "execution_count": null,
   "metadata": {},
   "outputs": [],
   "source": [
    "poem = open(\"sea_rose.txt\").read().lower()"
   ]
  },
  {
   "cell_type": "code",
   "execution_count": null,
   "metadata": {},
   "outputs": [],
   "source": [
    "poem_lines = poem.splitlines()"
   ]
  },
  {
   "cell_type": "markdown",
   "metadata": {},
   "source": [
    "Let's have Python evaluate the variable \"poem-lines\" just to verify for ourselves that we've got a list of lines:"
   ]
  },
  {
   "cell_type": "code",
   "execution_count": null,
   "metadata": {},
   "outputs": [],
   "source": [
    "poem_lines"
   ]
  },
  {
   "cell_type": "markdown",
   "metadata": {},
   "source": [
    "Take a look at the \"poem_lines\" output. Note that every line in the poem is separated from the others by a comma and that all the lines as a collective unit are embedded in square brackets. These are the syntactic indicators that we're dealing with a list. Each element of that list, however, is a string, as signaled by the quotation marks enclosing individual lines. We're now ready to loop through each of them one at a time and apply a filter and/or transformation:"
   ]
  },
  {
   "cell_type": "code",
   "execution_count": null,
   "metadata": {},
   "outputs": [],
   "source": [
    "for line in poem_lines: \n",
    "    if \"rose\" in line:  \n",
    "        print(line)     "
   ]
  },
  {
   "cell_type": "markdown",
   "metadata": {},
   "source": [
    "Here's a walkthrough of the above code cell: 1. The \"for\" loop announces that each line in the list of poem_lines will be considered in turn. 2. The \"if\" statement evaluates the current line to determine if the string \"rose\" appears in it. 3. If it does, the line is printed. Since this is a loop, the whole process is repeated until every line has been processed and evaluated.  \n",
    "\n",
    "The indents and the colons in the code block are required: if they are omitted or the indents are skewed, an error message will be raised when you run the cell. Likewise, the words \"for\", \"if\", and \"in\" are all syntactically important. If your indentation is off by just a space, your code won't parse. Fortunately, Jupyter notebook automatically supplies indents when it detects a \"for\" or \"else\" statement followed by a colon and return.  \n",
    "\n",
    "Let's look at one more \"for\" loop. This example duplicates the first, but additionally stipulates using an \"else\" statement that any line which does not include \"rose\" will be printed in all caps:"
   ]
  },
  {
   "cell_type": "code",
   "execution_count": null,
   "metadata": {},
   "outputs": [],
   "source": [
    "for line in poem_lines:\n",
    "    if \"rose\" in line:  \n",
    "        print(line)\n",
    "    else:\n",
    "        print(line.upper())"
   ]
  },
  {
   "cell_type": "code",
   "execution_count": null,
   "metadata": {},
   "outputs": [],
   "source": [
    "def strike(text):\n",
    "    erased_text = ''\n",
    "    for x in text:\n",
    "        erased_text = erased_text + x + '\\u0336'\n",
    "    return erased_text"
   ]
  },
  {
   "cell_type": "markdown",
   "metadata": {},
   "source": [
    "## Alternative Method for Encoding Files in UTF-8 format  \n",
    "If you've had trouble converting your files into UTF-8 format using a text editor, try the following method (be sure your file extension is already .txt)"
   ]
  },
  {
   "cell_type": "code",
   "execution_count": null,
   "metadata": {},
   "outputs": [],
   "source": [
    "x = open(\"sea_rose.txt\", encoding = \"utf-8\").read()"
   ]
  },
  {
   "cell_type": "code",
   "execution_count": null,
   "metadata": {},
   "outputs": [],
   "source": [
    "x"
   ]
  },
  {
   "cell_type": "code",
   "execution_count": null,
   "metadata": {},
   "outputs": [],
   "source": [
    "print(x)"
   ]
  },
  {
   "cell_type": "markdown",
   "metadata": {},
   "source": [
    "## Solutions to String Exercises from Notebook 3"
   ]
  },
  {
   "cell_type": "markdown",
   "metadata": {},
   "source": [
    "EXERCISE 1: Identify a poem you want to work with. Make sure you save it in \"UTF-8\" format and upload it to your Jupyter notebook so that it's available to you in the right directory on your computer. Create a variable and assign the text of your poem to that variable. Use the len() function to find out how many characters are in your poem. Then, use the count() method to find out how many times one or more specific strings occur within it. "
   ]
  },
  {
   "cell_type": "code",
   "execution_count": null,
   "metadata": {},
   "outputs": [],
   "source": [
    "poem = open(\"tyger.txt\", encoding = \"utf-8\").read()\n",
    "print(poem)"
   ]
  },
  {
   "cell_type": "code",
   "execution_count": null,
   "metadata": {},
   "outputs": [],
   "source": [
    "len(poem)"
   ]
  },
  {
   "cell_type": "code",
   "execution_count": null,
   "metadata": {},
   "outputs": [],
   "source": [
    "poem.count(\"Tyger\")"
   ]
  },
  {
   "cell_type": "markdown",
   "metadata": {},
   "source": [
    "EXERCISE 2: Transform your poem by 1.) using the \"swapcase\" string method we encountered during class; and 2.) replacing at least three distinct words with three new words using the replace method. Try achieving each of these transformations separately (one version of the poem that swaps the case, another version that replaces words), but as a more advanced and challenging step (optional), try creating output that combines both of them in a single transformation. "
   ]
  },
  {
   "cell_type": "code",
   "execution_count": null,
   "metadata": {},
   "outputs": [],
   "source": [
    "new_poem = poem.replace(\"Tyger\", \"Zebra\").replace(\"sinews\", \"entrails\").replace(\"immortal\", \"ephemeral\").swapcase()\n",
    "print(new_poem)"
   ]
  },
  {
   "cell_type": "markdown",
   "metadata": {},
   "source": [
    "EXERCISE 3: Try concatenating the Sea Rose poem with your chosen poem to achieve a new poem that combines them together. Hint: assign a different variable to each poem using the open file method we saw earlier and then concatenate the two variables. Do you remember which operator you can use for concatenation? Second hint: you'll actually want to concatenate three things in your print statement: the variable holding your first poem, a new line symbol to separate your first poem from your second poem, and the variable holding your second poem. The new line character is \"\\n\" (inclusive of the quotation marks in your print statement)."
   ]
  },
  {
   "cell_type": "code",
   "execution_count": null,
   "metadata": {},
   "outputs": [],
   "source": [
    "tyger = open(\"tyger.txt\").read()\n",
    "sea_rose = open(\"sea_rose.txt\").read()\n",
    "print(tyger + \"\\n\" + sea_rose)"
   ]
  },
  {
   "cell_type": "code",
   "execution_count": null,
   "metadata": {},
   "outputs": [],
   "source": [
    "tyger = open(\"tyger.txt\").read()\n",
    "sea_rose = open(\"sea_rose.txt\").read()\n",
    "combined = tyger + \"\\n\" + sea_rose\n",
    "print(combined)"
   ]
  },
  {
   "cell_type": "markdown",
   "metadata": {},
   "source": [
    "EXERCISE 4: Write an expression, or a series of expressions, that prints out \"Sea Rose\" from the first occurence of the string \"sand\" up until the end of the poem. (Hint: Use the .find() method, discussed in class in addition to string slicing methods). My code, which I'll share later, is three lines long and uses two variables: \"poem\" and another variable to identify and hold the location of the string \"sand\". Another hint: your first line should be \"poem = open(\"sea_rose.txt\").read()\" minus the quotation marks. Third hint: remember that you can use variables in lieu of explicit numbers to slice strings! In other words, you can have a variable that holds a number, and that variable can subsequently be used in your string slicing brackets.)"
   ]
  },
  {
   "cell_type": "code",
   "execution_count": null,
   "metadata": {},
   "outputs": [],
   "source": [
    "poem = open(\"sea_rose.txt\").read()\n",
    "sand = poem.find(\"sand\")\n",
    "print(poem[sand:])"
   ]
  },
  {
   "cell_type": "markdown",
   "metadata": {},
   "source": [
    "EXERCISE 5: Write an expression that evaluates to a string containing the first fifty characters of \"Sea Rose\" followed by the last fifty characters of \"Sea Rose.\" (Hint: you'll be using string slicing methods and concatenation in this exercise. First line of code can again be \"poem = open(\"sea_rose.txt\").read()\" minus the quotation marks. Then create two new variables, one to hold the first 50 characters, the second to hold the last 50, then concatenate those two variables and print them)"
   ]
  },
  {
   "cell_type": "code",
   "execution_count": null,
   "metadata": {},
   "outputs": [],
   "source": [
    "poem = open(\"sea_rose.txt\").read()\n",
    "first_fifty = poem[:51]\n",
    "last_fifty = poem[-50:]\n",
    "print(first_fifty + \" \" + last_fifty)"
   ]
  },
  {
   "cell_type": "markdown",
   "metadata": {},
   "source": [
    "## New Exercises  \n",
    "EXERCISE 1: Use the append() and remove() methods to try adding and subtracting list elements from the \"House of Dust\" Materials category:"
   ]
  },
  {
   "cell_type": "code",
   "execution_count": null,
   "metadata": {},
   "outputs": [],
   "source": [
    "materials = ['SAND', 'DUST', 'LEAVES', 'PAPER', 'TIN', 'ROOTS', 'BRICK', 'STONE', 'DISCARDED CLOTHING', 'GLASS', 'STEEL', 'PLASTIC', 'MUD', 'BROKEN DISHES', 'WOOD', 'STRAW', 'WEEDS']\n"
   ]
  },
  {
   "cell_type": "markdown",
   "metadata": {},
   "source": [
    "EXERCISE 2: Apply each of the different functions available in the \"random\" library to the sea rose poem. As a refresher, the three we worked with are random.sample, random.choice, and random.shuffle. Try applying each of them to the poem at the level of lines (e.g., write a simple program that randomly shuffles the lines of the sea-rose poem (random.shuffle), then write a new program that randomly selects and prints one line of the poem (random.choice), then write a third program that randomly samples some specific number of lines (3 or 4 or however many you want). Hint: to work with the poem at the level of lines, you'll want to split the poem at the end of each line. And don't forget to import the \"random\" library. Here's what your first three lines of code for each of these programs will look like:\n",
    "\n",
    "import random  \n",
    "poem = open(\"sea_rose.txt\").read()  \n",
    "lines = poem.splitlines()\n",
    "\n",
    "From there, you'll want to review how to apply each of the random functions. One more hint: for both random.shuffle and random.sample, you'll want to use the join operation toward the end to turn your list back into a string. So the third line of each program turns your string into a list of lines, and then for two of the functions, you'll want to turn those lists back into strings before you print them. Your last line in each program will use the \"print\" command."
   ]
  },
  {
   "cell_type": "code",
   "execution_count": null,
   "metadata": {},
   "outputs": [],
   "source": []
  }
 ],
 "metadata": {
  "kernelspec": {
   "display_name": "Python 3",
   "language": "python",
   "name": "python3"
  },
  "language_info": {
   "codemirror_mode": {
    "name": "ipython",
    "version": 3
   },
   "file_extension": ".py",
   "mimetype": "text/x-python",
   "name": "python",
   "nbconvert_exporter": "python",
   "pygments_lexer": "ipython3",
   "version": "3.7.6"
  }
 },
 "nbformat": 4,
 "nbformat_minor": 2
}
