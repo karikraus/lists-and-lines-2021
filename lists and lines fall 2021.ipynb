{
 "cells": [
  {
   "cell_type": "markdown",
   "metadata": {},
   "source": [
    "# Understanding Lists and Transforming Poetic Lines  \n",
    "In Python, a list is an ordered sequence of items. While a list is its own unique data type, individual elements within the list can be of different types, such as letters, words, or numbers. Many combinatorial poems make extensive use of lists. You can slice a list, sort it, loop through it, add and remove items from it, and otherwise manipulate it. Understanding lists is therefore crucial for advancing your practice as a computational poet. One of the things that can sometimes make working with lists challenging is that they can behave so much like strings, especially when the individual items are text of some kind. This is because strings and lists, while distinct, are nonetheless united in both being types of *sequences*: successions or chains of elements. As such, they share many similarities. As we shall see, lists and strings also work synergistically in poetry generation. For these reasons, we'll begin this notebook with a quick review of the string data type that we learned about in our previous notebook before moving on to lists.\n",
    "\n",
    "This notebook is inspired by Allison Parrish's excellent tutorial: https://github.com/aparrish/rwet/blob/master/understanding-lists-manipulating-lines.ipynb. I've specifically tried to capture and preserve Parrish's foregrounding of how lists and strings can interact when creating text generators. The organization thus adheres closely to hers, while the explanations and most of the examples are mine. I've also made use of a fragment of code from Nick Montfort's [reimplementation of Alison Knowles' \"House of Dust\"](https://nickm.com/memslam/a_house_of_dust.html). Finally, I've followed Parrish in using [\"Sea Rose\" by H.D.](https://www.poetryfoundation.org/poems/48188/sea-rose) to illustrate some key concepts."
   ]
  },
  {
   "cell_type": "markdown",
   "metadata": {},
   "source": [
    "## List Preview\n",
    "Before taking a second look at strings, let's preview what a list looks like:"
   ]
  },
  {
   "cell_type": "code",
   "execution_count": null,
   "metadata": {},
   "outputs": [],
   "source": [
    "ships = [\"schooner\", \"barque\", \"xebec\", \"cutter\", \"clipper\"]"
   ]
  },
  {
   "cell_type": "code",
   "execution_count": null,
   "metadata": {},
   "outputs": [],
   "source": [
    "letters = [\"h\", \"o\", \"u\", \"s\", \"e\", \"o\", \"f\", \"d\", \"u\", \"s\", \"t\"]"
   ]
  },
  {
   "cell_type": "code",
   "execution_count": null,
   "metadata": {},
   "outputs": [],
   "source": [
    "fictional_addresses = [\"221B Baker St.\", \"Apartment 5A, 129 W. 81st St.\", \"4 Privet Drive, Little Whinging, Surrey\", \"890 Fifth Avenue\"]"
   ]
  },
  {
   "cell_type": "code",
   "execution_count": null,
   "metadata": {},
   "outputs": [],
   "source": [
    "famous_numbers = [3.141592, 1.6180, 186282] #pi, golden ratio, speed of light"
   ]
  },
  {
   "cell_type": "markdown",
   "metadata": {},
   "source": [
    "Note that square brackets signal to both computer and human readers alike that we're dealing with a list.  \n",
    "\n",
    "Taken collectively, the above examples demonsrate that individual list items can vary by linguistic unit (e.g., letter, word, phrase) and by data type (e.g., string, integer, float). You can also mix more than one data type or linguistic unit within a single list:"
   ]
  },
  {
   "cell_type": "code",
   "execution_count": null,
   "metadata": {},
   "outputs": [],
   "source": [
    "mixed_data = [\"xebec\", \"211B Baker St.\", 3.141592]"
   ]
  },
  {
   "cell_type": "code",
   "execution_count": null,
   "metadata": {},
   "outputs": [],
   "source": [
    "mixed_data"
   ]
  },
  {
   "cell_type": "markdown",
   "metadata": {},
   "source": [
    "Remember that you can apply the \"type\" function to an object to check its data type:"
   ]
  },
  {
   "cell_type": "code",
   "execution_count": null,
   "metadata": {},
   "outputs": [],
   "source": [
    "type(ships)"
   ]
  },
  {
   "cell_type": "code",
   "execution_count": null,
   "metadata": {},
   "outputs": [],
   "source": [
    "type(letters)"
   ]
  },
  {
   "cell_type": "code",
   "execution_count": null,
   "metadata": {},
   "outputs": [],
   "source": [
    "type(fictional_addresses)"
   ]
  },
  {
   "cell_type": "code",
   "execution_count": null,
   "metadata": {},
   "outputs": [],
   "source": [
    "type(famous_numbers)"
   ]
  },
  {
   "cell_type": "markdown",
   "metadata": {},
   "source": [
    "The key thing to note is that despite the internal data variety, the Python interactive interpreter parses a collection of items between square brackets as a list. "
   ]
  },
  {
   "cell_type": "markdown",
   "metadata": {},
   "source": [
    "## Strings Again \n",
    "Let's refresh our memories with regards to strings. Recall that quotation marks--rather than square brackets--signal that the data we're dealing with is a string. Here's a string assigned to a variable:"
   ]
  },
  {
   "cell_type": "code",
   "execution_count": null,
   "metadata": {},
   "outputs": [],
   "source": [
    "scent_of_rain = \"petrichor\""
   ]
  },
  {
   "cell_type": "markdown",
   "metadata": {},
   "source": [
    "\"Petrichor\" is a word that refers to the wonderful smell of rain. You can learn more about it [here](https://www.merriam-webster.com/words-at-play/words-were-watching-petrichor-slang-definition)"
   ]
  },
  {
   "cell_type": "markdown",
   "metadata": {},
   "source": [
    "We can use indexing to retrieve individual characters:"
   ]
  },
  {
   "cell_type": "code",
   "execution_count": null,
   "metadata": {},
   "outputs": [],
   "source": [
    "scent_of_rain[1]"
   ]
  },
  {
   "cell_type": "code",
   "execution_count": null,
   "metadata": {},
   "outputs": [],
   "source": [
    "scent_of_rain[-2]"
   ]
  },
  {
   "cell_type": "markdown",
   "metadata": {},
   "source": [
    "And of course we can check the data type using the \"type\" function:"
   ]
  },
  {
   "cell_type": "code",
   "execution_count": null,
   "metadata": {},
   "outputs": [],
   "source": [
    "type(scent_of_rain)"
   ]
  },
  {
   "cell_type": "markdown",
   "metadata": {},
   "source": [
    "Recall that in addition to retrieving an individual character, we can extract a substring using positional indexing:"
   ]
  },
  {
   "cell_type": "code",
   "execution_count": null,
   "metadata": {},
   "outputs": [],
   "source": [
    "scent_of_rain[-5:-2]"
   ]
  },
  {
   "cell_type": "markdown",
   "metadata": {},
   "source": [
    "Here are two built-in Python functions with string applications that we haven't previously looked at:"
   ]
  },
  {
   "cell_type": "code",
   "execution_count": null,
   "metadata": {},
   "outputs": [],
   "source": [
    "max(scent_of_rain) #petrichor"
   ]
  },
  {
   "cell_type": "code",
   "execution_count": null,
   "metadata": {},
   "outputs": [],
   "source": [
    "min(scent_of_rain)"
   ]
  },
  {
   "cell_type": "markdown",
   "metadata": {},
   "source": [
    "The max() function returns the \"largest\" value in a string, and the min() function returns the \"smallest\", whether in alphabetic or lexicographic terms. The letter \"z\", for example, would be considered the \"largest\" letter in the alphabet, while \"a\" would be considered the smallest. These functions can also be applied to numbers, returning the quantitatively largest and smallest values. "
   ]
  },
  {
   "cell_type": "markdown",
   "metadata": {},
   "source": [
    "## The Main Event: Lists \n",
    "There are techniques for converting data from one type into another. We can convert a string into a list of characters using the list() function:"
   ]
  },
  {
   "cell_type": "code",
   "execution_count": null,
   "metadata": {},
   "outputs": [],
   "source": [
    "list(scent_of_rain)"
   ]
  },
  {
   "cell_type": "markdown",
   "metadata": {},
   "source": [
    "We can assign that expression to a variable:"
   ]
  },
  {
   "cell_type": "code",
   "execution_count": null,
   "metadata": {},
   "outputs": [],
   "source": [
    "rain_letters = list(scent_of_rain)"
   ]
  },
  {
   "cell_type": "code",
   "execution_count": null,
   "metadata": {},
   "outputs": [],
   "source": [
    "rain_letters"
   ]
  },
  {
   "cell_type": "markdown",
   "metadata": {},
   "source": [
    "Let's check the data type:"
   ]
  },
  {
   "cell_type": "code",
   "execution_count": null,
   "metadata": {},
   "outputs": [],
   "source": [
    "type(rain_letters)"
   ]
  },
  {
   "cell_type": "markdown",
   "metadata": {},
   "source": [
    "Positional indexing applies to lists as well as strings. "
   ]
  },
  {
   "cell_type": "code",
   "execution_count": null,
   "metadata": {},
   "outputs": [],
   "source": [
    "rain_scent_string = \"petrichor\"\n",
    "rain_scent_list = [\"p\", \"e\", \"t\", \"r\", \"i\", \"c\", \"h\", \"o\", \"r\"]"
   ]
  },
  {
   "cell_type": "code",
   "execution_count": null,
   "metadata": {},
   "outputs": [],
   "source": [
    "rain_scent_string[0]"
   ]
  },
  {
   "cell_type": "code",
   "execution_count": null,
   "metadata": {},
   "outputs": [],
   "source": [
    "rain_scent_list[0]"
   ]
  },
  {
   "cell_type": "code",
   "execution_count": null,
   "metadata": {},
   "outputs": [],
   "source": [
    "rain_scent_string[-2]"
   ]
  },
  {
   "cell_type": "code",
   "execution_count": null,
   "metadata": {},
   "outputs": [],
   "source": [
    "rain_scent_list[-2]"
   ]
  },
  {
   "cell_type": "code",
   "execution_count": null,
   "metadata": {},
   "outputs": [],
   "source": [
    "rain_scent_string[0:3]"
   ]
  },
  {
   "cell_type": "code",
   "execution_count": null,
   "metadata": {},
   "outputs": [],
   "source": [
    "rain_scent_list[0:3]"
   ]
  },
  {
   "cell_type": "markdown",
   "metadata": {},
   "source": [
    "The max() and min() functions apply to both strings and lists. We've already seen them in action with strings; here's how they work with lists:"
   ]
  },
  {
   "cell_type": "code",
   "execution_count": null,
   "metadata": {},
   "outputs": [],
   "source": [
    "max(rain_scent_list)"
   ]
  },
  {
   "cell_type": "code",
   "execution_count": null,
   "metadata": {},
   "outputs": [],
   "source": [
    "min(rain_scent_list)"
   ]
  },
  {
   "cell_type": "markdown",
   "metadata": {},
   "source": [
    "You can use the sorted() function to order the characters in a string alphabetically:"
   ]
  },
  {
   "cell_type": "code",
   "execution_count": null,
   "metadata": {},
   "outputs": [],
   "source": [
    "sorted(rain_scent_list)"
   ]
  },
  {
   "cell_type": "markdown",
   "metadata": {},
   "source": [
    "The default mode returns a list in ascending order. With an added \"reverse\" parameter, you can alternatively specify descending order:"
   ]
  },
  {
   "cell_type": "code",
   "execution_count": null,
   "metadata": {},
   "outputs": [],
   "source": [
    "sorted(rain_scent_list, reverse = True)"
   ]
  },
  {
   "cell_type": "markdown",
   "metadata": {},
   "source": [
    "You can also apply the sorted() function to lists containing numbers to arrange them in ascending or descending order:"
   ]
  },
  {
   "cell_type": "code",
   "execution_count": 2,
   "metadata": {},
   "outputs": [],
   "source": [
    "numbers = [1, 2, 3, 4, 5]"
   ]
  },
  {
   "cell_type": "code",
   "execution_count": null,
   "metadata": {},
   "outputs": [],
   "source": [
    "sorted(numbers, reverse = True)"
   ]
  },
  {
   "cell_type": "markdown",
   "metadata": {},
   "source": [
    "Some functions apply to lists containing data of exclusively one type or another. The sum() function, for example, which performs addition, presupposes a list of numbers rather than letters or words. Note that you'll get an error message if you try to use it with a list containing strings:"
   ]
  },
  {
   "cell_type": "code",
   "execution_count": 3,
   "metadata": {},
   "outputs": [
    {
     "data": {
      "text/plain": [
       "15"
      ]
     },
     "execution_count": 3,
     "metadata": {},
     "output_type": "execute_result"
    }
   ],
   "source": [
    "sum(numbers)"
   ]
  },
  {
   "cell_type": "code",
   "execution_count": null,
   "metadata": {},
   "outputs": [],
   "source": [
    "sum(rain_scent_list)"
   ]
  },
  {
   "cell_type": "markdown",
   "metadata": {},
   "source": [
    "The sum() function illustrates a fundamental duality at work in the organization of data types: while an ordered collection of items is a list, the individual elements within that list preserve separate identities as strings, integers, floats, etc. Those primary identities aren't effaced just because the items also participate in a secondary group identity. On the contrary, their duality is signaled at the level of syntax: a word within a list, for example, is enclosed within quotation marks to indicate its individual status as a string, while simultaneously being embedded in square brackets alongside other items to indicate its membership in a list. Numbers, in turn, differentiate themselves from letters by foregoing the quotation marks. The Python interactive interpreter is constantly dealing with list elements at both syntactical levels. In the case of the sum() function, for example, it first assesses the data type of individual elements to determine if they're numerical before subsequently adding them all together at the list level. This double structure is a hallmark of lists."
   ]
  },
  {
   "cell_type": "markdown",
   "metadata": {},
   "source": [
    "### Splitting Strings into Lists of Lines and Words\n",
    "We've looked at how we can use the list() function to convert a string into a list of letters. But what if we want to convert a string into a list of some other unit, such as *words* or *lines*? For those we have the split() and splitlines() methods:"
   ]
  },
  {
   "cell_type": "code",
   "execution_count": 7,
   "metadata": {},
   "outputs": [],
   "source": [
    "harper = \"\"\"I felt it when the glow of life\n",
    "Was warm upon my cheek,\n",
    "In mornful cadence to my heart,\n",
    "It solemnly did speak.\"\"\""
   ]
  },
  {
   "cell_type": "code",
   "execution_count": 49,
   "metadata": {},
   "outputs": [
    {
     "name": "stdout",
     "output_type": "stream",
     "text": [
      "I felt it when the glow of life\n",
      "Was warm upon my cheek,\n",
      "In mornful cadence to my heart,\n",
      "It solemnly did speak.\n"
     ]
    }
   ],
   "source": [
    "print(harper)"
   ]
  },
  {
   "cell_type": "code",
   "execution_count": 50,
   "metadata": {},
   "outputs": [
    {
     "data": {
      "text/plain": [
       "['I felt it when the glow of life',\n",
       " 'Was warm upon my cheek,',\n",
       " 'In mornful cadence to my heart,',\n",
       " 'It solemnly did speak.']"
      ]
     },
     "execution_count": 50,
     "metadata": {},
     "output_type": "execute_result"
    }
   ],
   "source": [
    "harper.splitlines()"
   ]
  },
  {
   "cell_type": "markdown",
   "metadata": {},
   "source": [
    "That gave us a list of lines. Now let's obtain a list of words:"
   ]
  },
  {
   "cell_type": "code",
   "execution_count": 8,
   "metadata": {},
   "outputs": [
    {
     "data": {
      "text/plain": [
       "['I',\n",
       " 'felt',\n",
       " 'it',\n",
       " 'when',\n",
       " 'the',\n",
       " 'glow',\n",
       " 'of',\n",
       " 'life',\n",
       " 'Was',\n",
       " 'warm',\n",
       " 'upon',\n",
       " 'my',\n",
       " 'cheek,',\n",
       " 'In',\n",
       " 'mornful',\n",
       " 'cadence',\n",
       " 'to',\n",
       " 'my',\n",
       " 'heart,',\n",
       " 'It',\n",
       " 'solemnly',\n",
       " 'did',\n",
       " 'speak.']"
      ]
     },
     "execution_count": 8,
     "metadata": {},
     "output_type": "execute_result"
    }
   ],
   "source": [
    "harper.split()"
   ]
  },
  {
   "cell_type": "markdown",
   "metadata": {},
   "source": [
    "This stanza is from a poem entitled \"Presentiment\" by Frances Harper (1825-1911), a Black poet, abolitionist, suffragist, and teacher. *Forest Leaves* (1845), the collection in which \"Presentiment\" was originally published, was rediscovered by Johanna Ortner a decade or so ago in Baltimore, Maryland, where Harper was born and raised. You can read more about the book's recovery [here](http://commonplace.online/article/lost-no-more-recovering-frances-ellen-watkins-harpers-forest-leaves/).  \n",
    "\n",
    "The split() method automatically splits a string into individual words by using the spaces between them as a separator. You can use other delimiters to split at alternative places within the text. In the following example, I've divided Harper's stanza into three parts by specifying a comma rather than whitespace as the separator. Every time the system encounters a comma, it splits the text:"
   ]
  },
  {
   "cell_type": "code",
   "execution_count": 12,
   "metadata": {},
   "outputs": [],
   "source": [
    "harper_comma = harper.split(\",\")"
   ]
  },
  {
   "cell_type": "code",
   "execution_count": 13,
   "metadata": {},
   "outputs": [
    {
     "data": {
      "text/plain": [
       "['I felt it when the glow of life\\nWas warm upon my cheek',\n",
       " '\\nIn mornful cadence to my heart',\n",
       " '\\nIt solemnly did speak.']"
      ]
     },
     "execution_count": 13,
     "metadata": {},
     "output_type": "execute_result"
    }
   ],
   "source": [
    "harper_comma"
   ]
  },
  {
   "cell_type": "markdown",
   "metadata": {},
   "source": [
    "Note that the chosen delimiter is inserted between quotation marks in the parentheses following \"split\" in the code cell. We now have a list of three elements, each of which consists of one or two lines from the original poetic stanza. This example combined with the others collectively illustrate that the string units comprising elements in a list can vary from individual letters to words to longer textual fragments or structures. Note that a comma separates each list element. We can retrieve individual elements from this list using indexing:"
   ]
  },
  {
   "cell_type": "code",
   "execution_count": 20,
   "metadata": {},
   "outputs": [
    {
     "name": "stdout",
     "output_type": "stream",
     "text": [
      "I felt it when the glow of life\n",
      "Was warm upon my cheek\n",
      "\n",
      "In mornful cadence to my heart\n",
      "\n",
      "It solemnly did speak.\n"
     ]
    }
   ],
   "source": [
    "print(harper_comma[0])\n",
    "print(harper_comma[1])\n",
    "print(harper_comma[2])"
   ]
  },
  {
   "cell_type": "markdown",
   "metadata": {},
   "source": [
    "Let's use the type() function to verify the data types for harper_comma as well as the elements within harper_comma. Try to predict the data types before you run the code cells:"
   ]
  },
  {
   "cell_type": "code",
   "execution_count": 21,
   "metadata": {},
   "outputs": [
    {
     "data": {
      "text/plain": [
       "list"
      ]
     },
     "execution_count": 21,
     "metadata": {},
     "output_type": "execute_result"
    }
   ],
   "source": [
    "type(harper_comma)"
   ]
  },
  {
   "cell_type": "code",
   "execution_count": 22,
   "metadata": {},
   "outputs": [
    {
     "data": {
      "text/plain": [
       "str"
      ]
     },
     "execution_count": 22,
     "metadata": {},
     "output_type": "execute_result"
    }
   ],
   "source": [
    "type(harper_comma[0])"
   ]
  },
  {
   "cell_type": "markdown",
   "metadata": {},
   "source": [
    "### Converting Lists into Strings   \n",
    "When we're modifying existing poems to create new poems, we'll often want to convert the original poem from a string into a list, modify the list elements in some way, and then convert them back to a string. We've now seen how to do the first part of that sequence--convert a string into a list--but how do we move in the other direction, converting a list into a string? The solution is to use the join() method. Let's look at an example. First, we'll assign a list to a variable:"
   ]
  },
  {
   "cell_type": "code",
   "execution_count": 23,
   "metadata": {},
   "outputs": [],
   "source": [
    "autumn_harvest = [\"pumpkins\", \"squash\", \"apples\", \"corn\", \"grapes\"]"
   ]
  },
  {
   "cell_type": "markdown",
   "metadata": {},
   "source": [
    "Next we'll use the join method to convert that list back into a string, inserting the conjunction \"and\" between each element:"
   ]
  },
  {
   "cell_type": "code",
   "execution_count": 30,
   "metadata": {},
   "outputs": [
    {
     "data": {
      "text/plain": [
       "'pumpkins and squash and apples and corn and grapes'"
      ]
     },
     "execution_count": 30,
     "metadata": {},
     "output_type": "execute_result"
    }
   ],
   "source": [
    "\" and \".join(autumn_harvest)"
   ]
  },
  {
   "cell_type": "markdown",
   "metadata": {},
   "source": [
    "What to notice: the join method involves gluing the different list elements together to create a continous string. The word, letters, or characters that appear in front of \".join\" serve as the connective tissue between each of those elements. Let's take the same list and glue them together with a leaf emoji instead of the conjunction \"and\":"
   ]
  },
  {
   "cell_type": "code",
   "execution_count": 33,
   "metadata": {},
   "outputs": [
    {
     "data": {
      "text/plain": [
       "'pumpkins🍁squash🍁apples🍁corn🍁grapes'"
      ]
     },
     "execution_count": 33,
     "metadata": {},
     "output_type": "execute_result"
    }
   ],
   "source": [
    " \"🍁\".join(autumn_harvest)"
   ]
  },
  {
   "cell_type": "markdown",
   "metadata": {},
   "source": [
    "We can assign that expression to a variable:"
   ]
  },
  {
   "cell_type": "code",
   "execution_count": 35,
   "metadata": {},
   "outputs": [],
   "source": [
    "autumn_harvest_join = \"🍁\".join(autumn_harvest)"
   ]
  },
  {
   "cell_type": "code",
   "execution_count": 36,
   "metadata": {},
   "outputs": [
    {
     "data": {
      "text/plain": [
       "'pumpkins🍁squash🍁apples🍁corn🍁grapes'"
      ]
     },
     "execution_count": 36,
     "metadata": {},
     "output_type": "execute_result"
    }
   ],
   "source": [
    "autumn_harvest_join"
   ]
  },
  {
   "cell_type": "markdown",
   "metadata": {},
   "source": [
    "We can also print the string, which will remove the quotation marks around it:"
   ]
  },
  {
   "cell_type": "code",
   "execution_count": 37,
   "metadata": {},
   "outputs": [
    {
     "name": "stdout",
     "output_type": "stream",
     "text": [
      "pumpkins🍁squash🍁apples🍁corn🍁grapes\n"
     ]
    }
   ],
   "source": [
    "print(autumn_harvest_join)"
   ]
  },
  {
   "cell_type": "markdown",
   "metadata": {},
   "source": [
    "Remember that the variable \"autumn_harvest\" holds the list of autumn fruits and vegetables. If we don't want to assign the list to a variable, we could alternatively write the expression that converts it into a string like this:"
   ]
  },
  {
   "cell_type": "code",
   "execution_count": 34,
   "metadata": {},
   "outputs": [
    {
     "data": {
      "text/plain": [
       "'pumpkins🍁squash🍁apples🍁corn🍁grapes'"
      ]
     },
     "execution_count": 34,
     "metadata": {},
     "output_type": "execute_result"
    }
   ],
   "source": [
    " \"🍁\".join([\"pumpkins\", \"squash\", \"apples\", \"corn\", \"grapes\"])"
   ]
  },
  {
   "cell_type": "markdown",
   "metadata": {},
   "source": [
    "We could also assign the leaf emoji to a variable and then plug in the variable rather than the emoji in the slot in front of .join in the above expression. Create a new cell and try it out. "
   ]
  },
  {
   "cell_type": "markdown",
   "metadata": {},
   "source": [
    "EXERCISE: Create a new cell and glue together the autumn harvest list elements with [another emoji](https://getemoji.com/) of your choice (you can just copy-and-paste the emoji)"
   ]
  },
  {
   "cell_type": "markdown",
   "metadata": {},
   "source": [
    "You can also convert the list elements to a string by specifying a blank space as the connector:"
   ]
  },
  {
   "cell_type": "code",
   "execution_count": 56,
   "metadata": {},
   "outputs": [],
   "source": [
    "harvest = \" \".join([\"pumpkins\", \"squash\", \"apples\", \"corn\", \"grapes\"])"
   ]
  },
  {
   "cell_type": "markdown",
   "metadata": {},
   "source": [
    "## Random Library\n",
    "\n",
    "Allison Parrish [articulates a helpful workflow](https://github.com/aparrish/rwet/blob/master/understanding-lists-manipulating-lines.ipynb) for writing code that creatively traffics back and forth between strings and lists. Here are her steps:\n",
    "\n",
    ">1. Split a string to get a list of units (usually words).\n",
    ">2. Use some of the list operations discussed above to modify or slice the list.\n",
    ">3. Join that list back together into a string.\n",
    ">4. Do something with that string (e.g., print it out).\n",
    ">5. With this in mind, here's a program that splits a string into words, randomizes the order of the words, then prints out the results:"
   ]
  },
  {
   "cell_type": "code",
   "execution_count": 59,
   "metadata": {},
   "outputs": [
    {
     "name": "stdout",
     "output_type": "stream",
     "text": [
      "night and was a it dark stormy\n"
     ]
    }
   ],
   "source": [
    "import random #from Allison Parrish's Lists and Lines tutorial\n",
    "text = \"it was a dark and stormy night\"\n",
    "words = text.split()\n",
    "random.shuffle(words)\n",
    "text2 = ' '.join(words) #I've altered Parrish's original variable name in this line\n",
    "print(text)"
   ]
  },
  {
   "cell_type": "markdown",
   "metadata": {},
   "source": [
    "Note that Parrish's code first converts the string \"it was a dark and stormy night\" to a list of words **before** applying shuffle() from the random library. Attempting to apply it to the original input string will raise a programming error:"
   ]
  },
  {
   "cell_type": "code",
   "execution_count": 61,
   "metadata": {},
   "outputs": [
    {
     "ename": "TypeError",
     "evalue": "'str' object does not support item assignment",
     "output_type": "error",
     "traceback": [
      "\u001b[0;31m---------------------------------------------------------------------------\u001b[0m",
      "\u001b[0;31mTypeError\u001b[0m                                 Traceback (most recent call last)",
      "\u001b[0;32m<ipython-input-61-9a1edf7570e8>\u001b[0m in \u001b[0;36m<module>\u001b[0;34m\u001b[0m\n\u001b[0;32m----> 1\u001b[0;31m \u001b[0mrandom\u001b[0m\u001b[0;34m.\u001b[0m\u001b[0mshuffle\u001b[0m\u001b[0;34m(\u001b[0m\u001b[0mtext\u001b[0m\u001b[0;34m)\u001b[0m\u001b[0;34m\u001b[0m\u001b[0;34m\u001b[0m\u001b[0m\n\u001b[0m",
      "\u001b[0;32m/usr/local/Cellar/python/3.7.6_1/Frameworks/Python.framework/Versions/3.7/lib/python3.7/random.py\u001b[0m in \u001b[0;36mshuffle\u001b[0;34m(self, x, random)\u001b[0m\n\u001b[1;32m    276\u001b[0m                 \u001b[0;31m# pick an element in x[:i+1] with which to exchange x[i]\u001b[0m\u001b[0;34m\u001b[0m\u001b[0;34m\u001b[0m\u001b[0;34m\u001b[0m\u001b[0m\n\u001b[1;32m    277\u001b[0m                 \u001b[0mj\u001b[0m \u001b[0;34m=\u001b[0m \u001b[0mrandbelow\u001b[0m\u001b[0;34m(\u001b[0m\u001b[0mi\u001b[0m\u001b[0;34m+\u001b[0m\u001b[0;36m1\u001b[0m\u001b[0;34m)\u001b[0m\u001b[0;34m\u001b[0m\u001b[0;34m\u001b[0m\u001b[0m\n\u001b[0;32m--> 278\u001b[0;31m                 \u001b[0mx\u001b[0m\u001b[0;34m[\u001b[0m\u001b[0mi\u001b[0m\u001b[0;34m]\u001b[0m\u001b[0;34m,\u001b[0m \u001b[0mx\u001b[0m\u001b[0;34m[\u001b[0m\u001b[0mj\u001b[0m\u001b[0;34m]\u001b[0m \u001b[0;34m=\u001b[0m \u001b[0mx\u001b[0m\u001b[0;34m[\u001b[0m\u001b[0mj\u001b[0m\u001b[0;34m]\u001b[0m\u001b[0;34m,\u001b[0m \u001b[0mx\u001b[0m\u001b[0;34m[\u001b[0m\u001b[0mi\u001b[0m\u001b[0;34m]\u001b[0m\u001b[0;34m\u001b[0m\u001b[0;34m\u001b[0m\u001b[0m\n\u001b[0m\u001b[1;32m    279\u001b[0m         \u001b[0;32melse\u001b[0m\u001b[0;34m:\u001b[0m\u001b[0;34m\u001b[0m\u001b[0;34m\u001b[0m\u001b[0m\n\u001b[1;32m    280\u001b[0m             \u001b[0m_int\u001b[0m \u001b[0;34m=\u001b[0m \u001b[0mint\u001b[0m\u001b[0;34m\u001b[0m\u001b[0;34m\u001b[0m\u001b[0m\n",
      "\u001b[0;31mTypeError\u001b[0m: 'str' object does not support item assignment"
     ]
    }
   ],
   "source": [
    "random.shuffle(text)"
   ]
  },
  {
   "cell_type": "markdown",
   "metadata": {},
   "source": [
    "random.shuffle() operates on lists not strings, which is why artful code that shuttles back and forth between strings and lists is so important for combinatorial poetry. The penultimate line of Parrish's code knits the shuffled list elements back together using the join() method before printing out the new string. Take note, too, of how Parrish is making use of variables, first assinging the string \"it was a dark and stormy night\" to the \"text\" variable, subsequently using the split() method to generate a list of words, which are in turn assigned to the \"words\" variable. It is these list elements held by \"word\" that are randomly shuffled before converting everything back to a string. \n",
    "\n",
    "We know from Scott Rettberg's *Electronic Literature* that chance, randomization, and aleatory techniques are cornerstones of early combinatorial poetry. And we've already seen how Nick Montfort's reimplementation of Alison Knowles' \"House of Dust\" draws on the Python random library to continously output new stanzas. Let's take a closer look at how randomization works in Python so that we can creatively leverage it in our own work: "
   ]
  },
  {
   "cell_type": "markdown",
   "metadata": {},
   "source": [
    "#### Lists and randomness\n",
    "\n",
    "Python's random library contains three helpful functions that can be used for text generators:\n",
    "1. random.shuffle() As we've already seen, this function will randomly reorganize the elements of a list\n",
    "2. random.choice() This function returns a random element from a list\n",
    "3. random.sample() This function returns a random sample of elements from a list  \n",
    "\n",
    "Here's how each works:"
   ]
  },
  {
   "cell_type": "code",
   "execution_count": 62,
   "metadata": {},
   "outputs": [
    {
     "data": {
      "text/plain": [
       "['SAND',\n",
       " 'LEAVES',\n",
       " 'STONE',\n",
       " 'PAPER',\n",
       " 'STEEL',\n",
       " 'STRAW',\n",
       " 'PLASTIC',\n",
       " 'GLASS',\n",
       " 'BROKEN DISHES',\n",
       " 'ROOTS',\n",
       " 'DUST',\n",
       " 'WEEDS',\n",
       " 'MUD',\n",
       " 'DISCARDED CLOTHING',\n",
       " 'WOOD',\n",
       " 'TIN',\n",
       " 'BRICK']"
      ]
     },
     "execution_count": 62,
     "metadata": {},
     "output_type": "execute_result"
    }
   ],
   "source": [
    "import random\n",
    "materials = ['SAND', 'DUST', 'LEAVES', 'PAPER', 'TIN', 'ROOTS', 'BRICK', 'STONE', 'DISCARDED CLOTHING', 'GLASS', 'STEEL', 'PLASTIC', 'MUD', 'BROKEN DISHES', 'WOOD', 'STRAW', 'WEEDS']\n",
    "random.shuffle(materials)\n",
    "materials"
   ]
  },
  {
   "cell_type": "code",
   "execution_count": 63,
   "metadata": {},
   "outputs": [
    {
     "data": {
      "text/plain": [
       "'ROOTS'"
      ]
     },
     "execution_count": 63,
     "metadata": {},
     "output_type": "execute_result"
    }
   ],
   "source": [
    "import random\n",
    "random.choice(materials)"
   ]
  },
  {
   "cell_type": "code",
   "execution_count": 64,
   "metadata": {},
   "outputs": [
    {
     "data": {
      "text/plain": [
       "['BRICK', 'WOOD', 'STEEL']"
      ]
     },
     "execution_count": 64,
     "metadata": {},
     "output_type": "execute_result"
    }
   ],
   "source": [
    "import random\n",
    "random.sample(materials, 3)"
   ]
  },
  {
   "cell_type": "markdown",
   "metadata": {},
   "source": [
    "Note that random.sample() takes two arguments rather than one: the list itself (or a variable holding the elements of the list, in this case \"materials\"), followed by a number indicating the sample size. Try increasing and decreasing the number to get a feel for how it works."
   ]
  },
  {
   "cell_type": "markdown",
   "metadata": {},
   "source": [
    "## List Comprehensions: Applying Transformations to Lists  \n",
    "\n",
    "When writing code for combinatorial poetry, it can be helpful to loop through each element in a list to either filter some elements or transform them in some way. List comprehensions provide a compact syntax for accomplishing that.  \n",
    "\n",
    "If we abstract away from the details, the component parts of the syntax can be translated as something like this:  \n",
    "\n",
    "**newlist = transformation of list items from original list if (optionally) some specified condition is met.** \n",
    "\n",
    "Since elements in our lists will customarily consist of strings, we can perform the various string methods we previously learned about in our \"Strings\" notebook. As one example, we might convert a poem (string) into an assemblage of lines (list), then use string methods to cycle through each line in search of a specific word. If that word is found, we can use the replace() method to change that word to something else, or perhaps the upper() method to capitalize it.  \n",
    "\n",
    "Let's work with the \"Sea Rose\" poem to illustrate list comprehensions. In the first example, we'll simply tell Python to open the file containing the poem and capture each line as a list element. We'll assign this list of lines to the variable \"poem\":"
   ]
  },
  {
   "cell_type": "code",
   "execution_count": 2,
   "metadata": {},
   "outputs": [],
   "source": [
    "text = [line for line in open(\"sea_rose.txt\")]"
   ]
  },
  {
   "cell_type": "code",
   "execution_count": 70,
   "metadata": {},
   "outputs": [
    {
     "data": {
      "text/plain": [
       "['Rose, harsh rose, \\n',\n",
       " 'marred and with stint of petals, \\n',\n",
       " 'meagre flower, thin, \\n',\n",
       " 'spare of leaf,\\n',\n",
       " '\\n',\n",
       " 'more precious \\n',\n",
       " 'than a wet rose \\n',\n",
       " 'single on a stem -- \\n',\n",
       " 'you are caught in the drift.\\n',\n",
       " '\\n',\n",
       " 'Stunted, with small leaf, \\n',\n",
       " 'you are flung on the sand, \\n',\n",
       " 'you are lifted \\n',\n",
       " 'in the crisp sand \\n',\n",
       " 'that drives in the wind.\\n',\n",
       " '\\n',\n",
       " 'Can the spice-rose \\n',\n",
       " 'drip such acrid fragrance \\n',\n",
       " 'hardened in a leaf?']"
      ]
     },
     "execution_count": 70,
     "metadata": {},
     "output_type": "execute_result"
    }
   ],
   "source": [
    "text"
   ]
  },
  {
   "cell_type": "markdown",
   "metadata": {},
   "source": [
    "Recall that in the Strings notebook we learned the following method for opening and reading a poem:"
   ]
  },
  {
   "cell_type": "code",
   "execution_count": 71,
   "metadata": {},
   "outputs": [],
   "source": [
    "poem = open(\"sea_rose.txt\").read()"
   ]
  },
  {
   "cell_type": "code",
   "execution_count": 72,
   "metadata": {},
   "outputs": [
    {
     "data": {
      "text/plain": [
       "'Rose, harsh rose, \\nmarred and with stint of petals, \\nmeagre flower, thin, \\nspare of leaf,\\n\\nmore precious \\nthan a wet rose \\nsingle on a stem -- \\nyou are caught in the drift.\\n\\nStunted, with small leaf, \\nyou are flung on the sand, \\nyou are lifted \\nin the crisp sand \\nthat drives in the wind.\\n\\nCan the spice-rose \\ndrip such acrid fragrance \\nhardened in a leaf?'"
      ]
     },
     "execution_count": 72,
     "metadata": {},
     "output_type": "execute_result"
    }
   ],
   "source": [
    "poem"
   ]
  },
  {
   "cell_type": "markdown",
   "metadata": {},
   "source": [
    "In both cases the newline code \"\\n\" preserves the location of line breaks. But note the ways in which the output differs for each of our two variables: the \"text\" variable encloses the entire poem as a list of lines contained between square brackets. Each line is separated from the others with a comma. The \"poem\" variable, by contrast, encloses the entire poem in single quotation marks. There are no commas separating each line from the others. The \"text\" variable holds the poem as a list of lines, while the \"poem\" variable holds it as a string. We can check this using the \"type\" function: "
   ]
  },
  {
   "cell_type": "code",
   "execution_count": 73,
   "metadata": {},
   "outputs": [
    {
     "data": {
      "text/plain": [
       "list"
      ]
     },
     "execution_count": 73,
     "metadata": {},
     "output_type": "execute_result"
    }
   ],
   "source": [
    "type(text)"
   ]
  },
  {
   "cell_type": "code",
   "execution_count": 74,
   "metadata": {},
   "outputs": [
    {
     "data": {
      "text/plain": [
       "str"
      ]
     },
     "execution_count": 74,
     "metadata": {},
     "output_type": "execute_result"
    }
   ],
   "source": [
    "type(poem)"
   ]
  },
  {
   "cell_type": "markdown",
   "metadata": {},
   "source": [
    "To get a better sense of why this data type distinction is important, let's try slicing \"text\" and \"poem\" using indexing methods and compare the differences in output:"
   ]
  },
  {
   "cell_type": "code",
   "execution_count": 77,
   "metadata": {},
   "outputs": [
    {
     "data": {
      "text/plain": [
       "['spare of leaf,\\n',\n",
       " '\\n',\n",
       " 'more precious \\n',\n",
       " 'than a wet rose \\n',\n",
       " 'single on a stem -- \\n',\n",
       " 'you are caught in the drift.\\n']"
      ]
     },
     "execution_count": 77,
     "metadata": {},
     "output_type": "execute_result"
    }
   ],
   "source": [
    "text[3:9]"
   ]
  },
  {
   "cell_type": "code",
   "execution_count": 78,
   "metadata": {},
   "outputs": [
    {
     "data": {
      "text/plain": [
       "'e, har'"
      ]
     },
     "execution_count": 78,
     "metadata": {},
     "output_type": "execute_result"
    }
   ],
   "source": [
    "poem[3:9]"
   ]
  },
  {
   "cell_type": "markdown",
   "metadata": {},
   "source": [
    "In the first instance, the units being indexed are a list of lines; in the second, the units are sequences of characters. Positional indexing and slicing work with both strings and lists, but the units being indexed may differ. "
   ]
  },
  {
   "cell_type": "markdown",
   "metadata": {},
   "source": [
    "Because of the differences in data type, we'll also get different results applying random.sample() to the contents of each variable:"
   ]
  },
  {
   "cell_type": "code",
   "execution_count": 81,
   "metadata": {},
   "outputs": [
    {
     "data": {
      "text/plain": [
       "['Rose, harsh rose, \\n',\n",
       " 'Stunted, with small leaf, \\n',\n",
       " 'you are flung on the sand, \\n']"
      ]
     },
     "execution_count": 81,
     "metadata": {},
     "output_type": "execute_result"
    }
   ],
   "source": [
    "random.sample(text, 3)"
   ]
  },
  {
   "cell_type": "code",
   "execution_count": 82,
   "metadata": {},
   "outputs": [
    {
     "data": {
      "text/plain": [
       "[' ', 'e', 'a']"
      ]
     },
     "execution_count": 82,
     "metadata": {},
     "output_type": "execute_result"
    }
   ],
   "source": [
    "random.sample(poem, 3)"
   ]
  },
  {
   "cell_type": "markdown",
   "metadata": {},
   "source": [
    "**EXERCISE: Try applying the sorted() function to the contents of both \"text\" and \"poem\" and study the differences. Include a markdown cell and write a short explanation to account for those differences.**  \n",
    "\n",
    "Now let's try something a little more advanced with list comprehensions:"
   ]
  },
  {
   "cell_type": "code",
   "execution_count": 85,
   "metadata": {},
   "outputs": [
    {
     "data": {
      "text/plain": [
       "['Rose,',\n",
       " 'marre',\n",
       " 'meagr',\n",
       " 'spare',\n",
       " '\\n',\n",
       " 'more ',\n",
       " 'than ',\n",
       " 'singl',\n",
       " 'you a',\n",
       " '\\n',\n",
       " 'Stunt',\n",
       " 'you a',\n",
       " 'you a',\n",
       " 'in th',\n",
       " 'that ',\n",
       " '\\n',\n",
       " 'Can t',\n",
       " 'drip ',\n",
       " 'harde']"
      ]
     },
     "execution_count": 85,
     "metadata": {},
     "output_type": "execute_result"
    }
   ],
   "source": [
    "[line[:5] for line in text]"
   ]
  },
  {
   "cell_type": "markdown",
   "metadata": {},
   "source": [
    "Can you see what's happening here? For each line of the poem, Python returns the first five characters as specified in the string indexing. Even though \"text\" holds the poem as a list, each element in the list is a string, allowing us to manipulate lines using string methods. Recall the previous discussion about the paradox of duality!"
   ]
  },
  {
   "cell_type": "code",
   "execution_count": 86,
   "metadata": {},
   "outputs": [
    {
     "data": {
      "text/plain": [
       "['Overwrite rose poem',\n",
       " 'Overwrite rose poem',\n",
       " 'Overwrite rose poem',\n",
       " 'Overwrite rose poem',\n",
       " 'Overwrite rose poem',\n",
       " 'Overwrite rose poem',\n",
       " 'Overwrite rose poem',\n",
       " 'Overwrite rose poem',\n",
       " 'Overwrite rose poem',\n",
       " 'Overwrite rose poem',\n",
       " 'Overwrite rose poem',\n",
       " 'Overwrite rose poem',\n",
       " 'Overwrite rose poem',\n",
       " 'Overwrite rose poem',\n",
       " 'Overwrite rose poem',\n",
       " 'Overwrite rose poem',\n",
       " 'Overwrite rose poem',\n",
       " 'Overwrite rose poem',\n",
       " 'Overwrite rose poem']"
      ]
     },
     "execution_count": 86,
     "metadata": {},
     "output_type": "execute_result"
    }
   ],
   "source": [
    "[\"Overwrite rose poem\" for line in text]"
   ]
  },
  {
   "cell_type": "markdown",
   "metadata": {},
   "source": [
    "The list comprehension, above, tells Python to replace each line of the poem with the string \"Overwrite rose poem\".  \n",
    "**EXERCISE: repeat the above list comprehension, but overwrite each line with something else (maybe emoji?)**"
   ]
  },
  {
   "cell_type": "markdown",
   "metadata": {},
   "source": [
    "Let's try some other string transformations using list comprehensions. Run each line of code to see what it does. Most of these string methods should be familiar to you from the \"Strings\" notebook, only now those methods are inserted in list comprehensions:"
   ]
  },
  {
   "cell_type": "code",
   "execution_count": 107,
   "metadata": {},
   "outputs": [
    {
     "data": {
      "text/plain": [
       "['ROSE, HARSH ROSE,',\n",
       " 'MARRED AND WITH STINT OF PETALS,',\n",
       " 'MEAGRE FLOWER, THIN,',\n",
       " 'SPARE OF LEAF,',\n",
       " '',\n",
       " 'MORE PRECIOUS',\n",
       " 'THAN A WET ROSE',\n",
       " 'SINGLE ON A STEM --',\n",
       " 'YOU ARE CAUGHT IN THE DRIFT.',\n",
       " '',\n",
       " 'STUNTED, WITH SMALL LEAF,',\n",
       " 'YOU ARE FLUNG ON THE SAND,',\n",
       " 'YOU ARE LIFTED',\n",
       " 'IN THE CRISP SAND',\n",
       " 'THAT DRIVES IN THE WIND.',\n",
       " '',\n",
       " 'CAN THE SPICE-ROSE',\n",
       " 'DRIP SUCH ACRID FRAGRANCE',\n",
       " 'HARDENED IN A LEAF?']"
      ]
     },
     "execution_count": 107,
     "metadata": {},
     "output_type": "execute_result"
    }
   ],
   "source": [
    "\n",
    "[line.upper().strip() for line in text] #strip method to remove the unsightly newline code"
   ]
  },
  {
   "cell_type": "code",
   "execution_count": 108,
   "metadata": {},
   "outputs": [
    {
     "data": {
      "text/plain": [
       "['Rose, harsh tulip,',\n",
       " 'marred and with stint of petals,',\n",
       " 'meagre flower, thin,',\n",
       " 'spare of leaf,',\n",
       " '',\n",
       " 'more precious',\n",
       " 'than a wet tulip',\n",
       " 'single on a stem --',\n",
       " 'you are caught in the drift.',\n",
       " '',\n",
       " 'Stunted, with small leaf,',\n",
       " 'you are flung on the sand,',\n",
       " 'you are lifted',\n",
       " 'in the crisp sand',\n",
       " 'that drives in the wind.',\n",
       " '',\n",
       " 'Can the spice-tulip',\n",
       " 'drip such acrid fragrance',\n",
       " 'hardened in a leaf?']"
      ]
     },
     "execution_count": 108,
     "metadata": {},
     "output_type": "execute_result"
    }
   ],
   "source": [
    "[line.replace(\"rose\", \"tulip\").strip() for line in text]"
   ]
  },
  {
   "cell_type": "markdown",
   "metadata": {},
   "source": [
    "Compare the list comprehension syntax, above, with the relevant syntax from the Strings notebook, which accomplishes the same thing:"
   ]
  },
  {
   "cell_type": "code",
   "execution_count": 89,
   "metadata": {},
   "outputs": [
    {
     "name": "stdout",
     "output_type": "stream",
     "text": [
      "Rose, harsh tulip, \n",
      "marred and with stint of petals, \n",
      "meagre flower, thin, \n",
      "spare of leaf,\n",
      "\n",
      "more precious \n",
      "than a wet tulip \n",
      "single on a stem -- \n",
      "you are caught in the drift.\n",
      "\n",
      "Stunted, with small leaf, \n",
      "you are flung on the sand, \n",
      "you are lifted \n",
      "in the crisp sand \n",
      "that drives in the wind.\n",
      "\n",
      "Can the spice-tulip \n",
      "drip such acrid fragrance \n",
      "hardened in a leaf?\n"
     ]
    }
   ],
   "source": [
    "print(poem.replace(\"rose\", \"tulip\"))"
   ]
  },
  {
   "cell_type": "markdown",
   "metadata": {},
   "source": [
    "Because the replace() method is case sensitive, the first \"Rose\" in the poem isn't being replaced. Let's fix that with the help of a variable and the lower() method:"
   ]
  },
  {
   "cell_type": "code",
   "execution_count": 109,
   "metadata": {},
   "outputs": [],
   "source": [
    "k = [line.lower().strip() for line in text]"
   ]
  },
  {
   "cell_type": "code",
   "execution_count": 110,
   "metadata": {},
   "outputs": [
    {
     "data": {
      "text/plain": [
       "['rose, harsh rose,',\n",
       " 'marred and with stint of petals,',\n",
       " 'meagre flower, thin,',\n",
       " 'spare of leaf,',\n",
       " '',\n",
       " 'more precious',\n",
       " 'than a wet rose',\n",
       " 'single on a stem --',\n",
       " 'you are caught in the drift.',\n",
       " '',\n",
       " 'stunted, with small leaf,',\n",
       " 'you are flung on the sand,',\n",
       " 'you are lifted',\n",
       " 'in the crisp sand',\n",
       " 'that drives in the wind.',\n",
       " '',\n",
       " 'can the spice-rose',\n",
       " 'drip such acrid fragrance',\n",
       " 'hardened in a leaf?']"
      ]
     },
     "execution_count": 110,
     "metadata": {},
     "output_type": "execute_result"
    }
   ],
   "source": [
    "k"
   ]
  },
  {
   "cell_type": "code",
   "execution_count": 111,
   "metadata": {},
   "outputs": [
    {
     "data": {
      "text/plain": [
       "['tulip, harsh tulip,',\n",
       " 'marred and with stint of petals,',\n",
       " 'meagre flower, thin,',\n",
       " 'spare of leaf,',\n",
       " '',\n",
       " 'more precious',\n",
       " 'than a wet tulip',\n",
       " 'single on a stem --',\n",
       " 'you are caught in the drift.',\n",
       " '',\n",
       " 'stunted, with small leaf,',\n",
       " 'you are flung on the sand,',\n",
       " 'you are lifted',\n",
       " 'in the crisp sand',\n",
       " 'that drives in the wind.',\n",
       " '',\n",
       " 'can the spice-tulip',\n",
       " 'drip such acrid fragrance',\n",
       " 'hardened in a leaf?']"
      ]
     },
     "execution_count": 111,
     "metadata": {},
     "output_type": "execute_result"
    }
   ],
   "source": [
    "[line.replace(\"rose\", \"tulip\").strip() for line in k]"
   ]
  },
  {
   "cell_type": "markdown",
   "metadata": {},
   "source": [
    "As a refresher, here's what the syntax looks like when we're dealing with the poem as a string rather than a list of lines:"
   ]
  },
  {
   "cell_type": "code",
   "execution_count": 94,
   "metadata": {},
   "outputs": [
    {
     "name": "stdout",
     "output_type": "stream",
     "text": [
      "tulip, harsh tulip, \n",
      "marred and with stint of petals, \n",
      "meagre flower, thin, \n",
      "spare of leaf,\n",
      "\n",
      "more precious \n",
      "than a wet tulip \n",
      "single on a stem -- \n",
      "you are caught in the drift.\n",
      "\n",
      "stunted, with small leaf, \n",
      "you are flung on the sand, \n",
      "you are lifted \n",
      "in the crisp sand \n",
      "that drives in the wind.\n",
      "\n",
      "can the spice-tulip \n",
      "drip such acrid fragrance \n",
      "hardened in a leaf?\n"
     ]
    }
   ],
   "source": [
    "print(poem.lower().replace(\"rose\", \"tulip\"))"
   ]
  },
  {
   "cell_type": "markdown",
   "metadata": {},
   "source": [
    "Other things we can do with list comprehensions. In the next code cell, note how we're making use of the \"+\" operator to concatenate emoji and text to create a display where each line of the poem is flanked by roses:"
   ]
  },
  {
   "cell_type": "code",
   "execution_count": 104,
   "metadata": {},
   "outputs": [
    {
     "data": {
      "text/plain": [
       "['🌹 Rose, harsh rose, 🌹',\n",
       " '🌹 marred and with stint of petals, 🌹',\n",
       " '🌹 meagre flower, thin, 🌹',\n",
       " '🌹 spare of leaf, 🌹',\n",
       " '🌹  🌹',\n",
       " '🌹 more precious 🌹',\n",
       " '🌹 than a wet rose 🌹',\n",
       " '🌹 single on a stem -- 🌹',\n",
       " '🌹 you are caught in the drift. 🌹',\n",
       " '🌹  🌹',\n",
       " '🌹 Stunted, with small leaf, 🌹',\n",
       " '🌹 you are flung on the sand, 🌹',\n",
       " '🌹 you are lifted 🌹',\n",
       " '🌹 in the crisp sand 🌹',\n",
       " '🌹 that drives in the wind. 🌹',\n",
       " '🌹  🌹',\n",
       " '🌹 Can the spice-rose 🌹',\n",
       " '🌹 drip such acrid fragrance 🌹',\n",
       " '🌹 hardened in a leaf? 🌹']"
      ]
     },
     "execution_count": 104,
     "metadata": {},
     "output_type": "execute_result"
    }
   ],
   "source": [
    "\n",
    "[\"🌹 \" + line.strip() + \" 🌹\" for line in text]"
   ]
  },
  {
   "cell_type": "markdown",
   "metadata": {},
   "source": [
    "We can yoke multiple string methods together in a single list comprehension. The following code cell combines the strip() method with multiple instances of replace():"
   ]
  },
  {
   "cell_type": "code",
   "execution_count": 114,
   "metadata": {},
   "outputs": [
    {
     "data": {
      "text/plain": [
       "['thorn, harsh thorn,',\n",
       " 'marred and with stint of petals,',\n",
       " 'meagre bug, thin,',\n",
       " 'spare of dog,',\n",
       " '',\n",
       " 'more precious',\n",
       " 'than a wet thorn',\n",
       " 'single on a stem --',\n",
       " 'you are caught in the drift.',\n",
       " '',\n",
       " 'stunted, with small dog,',\n",
       " 'you are flung on the bottle,',\n",
       " 'you are lifted',\n",
       " 'in the crisp bottle',\n",
       " 'that drives in the wind.',\n",
       " '',\n",
       " 'can the spice-thorn',\n",
       " 'drip such acrid fragrance',\n",
       " 'hardened in a dog?']"
      ]
     },
     "execution_count": 114,
     "metadata": {},
     "output_type": "execute_result"
    }
   ],
   "source": [
    "[line.strip().lower().replace(\"leaf\", \"dog\").replace(\"rose\", \"thorn\").replace(\"sand\", \"bottle\").replace(\"flower\", \"bug\") for line in text]"
   ]
  },
  {
   "cell_type": "markdown",
   "metadata": {},
   "source": [
    "Since the variable \"text\" holds the poem as a list of lines, when we use the print function, we still get an ugly list display:"
   ]
  },
  {
   "cell_type": "code",
   "execution_count": 118,
   "metadata": {},
   "outputs": [
    {
     "name": "stdout",
     "output_type": "stream",
     "text": [
      "['Rose, harsh rose, \\n', 'marred and with stint of petals, \\n', 'meagre flower, thin, \\n', 'spare of leaf,\\n', '\\n', 'more precious \\n', 'than a wet rose \\n', 'single on a stem -- \\n', 'you are caught in the drift.\\n', '\\n', 'Stunted, with small leaf, \\n', 'you are flung on the sand, \\n', 'you are lifted \\n', 'in the crisp sand \\n', 'that drives in the wind.\\n', '\\n', 'Can the spice-rose \\n', 'drip such acrid fragrance \\n', 'hardened in a leaf?']\n"
     ]
    }
   ],
   "source": [
    "print(text)"
   ]
  },
  {
   "cell_type": "markdown",
   "metadata": {},
   "source": [
    "Recall that we can convert a list back to a string using the join() method:"
   ]
  },
  {
   "cell_type": "code",
   "execution_count": 117,
   "metadata": {},
   "outputs": [
    {
     "name": "stdout",
     "output_type": "stream",
     "text": [
      "Rose, harsh rose, \n",
      " marred and with stint of petals, \n",
      " meagre flower, thin, \n",
      " spare of leaf,\n",
      " \n",
      " more precious \n",
      " than a wet rose \n",
      " single on a stem -- \n",
      " you are caught in the drift.\n",
      " \n",
      " Stunted, with small leaf, \n",
      " you are flung on the sand, \n",
      " you are lifted \n",
      " in the crisp sand \n",
      " that drives in the wind.\n",
      " \n",
      " Can the spice-rose \n",
      " drip such acrid fragrance \n",
      " hardened in a leaf?\n"
     ]
    }
   ],
   "source": [
    "print(\" \".join(text))"
   ]
  },
  {
   "cell_type": "markdown",
   "metadata": {},
   "source": [
    "Filtering Lines  \n",
    "\n",
    "We don't have to necessarily apply a string transformation to every line. Using list comprehensions, we can select which lines we want to transform with filtering. Note how we're deploying the \"if\" statement in the following code cell:"
   ]
  },
  {
   "cell_type": "code",
   "execution_count": 121,
   "metadata": {},
   "outputs": [
    {
     "data": {
      "text/plain": [
       "['spare of leaf,\\n',\n",
       " '\\n',\n",
       " 'more precious \\n',\n",
       " 'than a wet rose \\n',\n",
       " '\\n',\n",
       " 'you are lifted \\n',\n",
       " '\\n']"
      ]
     },
     "execution_count": 121,
     "metadata": {},
     "output_type": "execute_result"
    }
   ],
   "source": [
    "[line for line in text if len(line) < 18]"
   ]
  },
  {
   "cell_type": "markdown",
   "metadata": {},
   "source": [
    "Only lines with less than 18 characters are returned. Let's get rid of those newline codes:"
   ]
  },
  {
   "cell_type": "code",
   "execution_count": 122,
   "metadata": {},
   "outputs": [
    {
     "data": {
      "text/plain": [
       "['spare of leaf,',\n",
       " '',\n",
       " 'more precious',\n",
       " 'than a wet rose',\n",
       " '',\n",
       " 'you are lifted',\n",
       " '']"
      ]
     },
     "execution_count": 122,
     "metadata": {},
     "output_type": "execute_result"
    }
   ],
   "source": [
    "[line.strip() for line in text if len(line) < 18]"
   ]
  },
  {
   "cell_type": "markdown",
   "metadata": {},
   "source": [
    "Other ways to filter:"
   ]
  },
  {
   "cell_type": "code",
   "execution_count": 127,
   "metadata": {},
   "outputs": [
    {
     "data": {
      "text/plain": [
       "['Rose, harsh rose, \\n', 'than a wet rose \\n', 'Can the spice-rose \\n']"
      ]
     },
     "execution_count": 127,
     "metadata": {},
     "output_type": "execute_result"
    }
   ],
   "source": [
    "[line for line in text if \"rose\" in line]"
   ]
  },
  {
   "cell_type": "markdown",
   "metadata": {},
   "source": [
    "List comprehensions utilize what are called \"temporary variables\" with a short shelf life that don't have to be defined in advance. Because their scope is local and limited, we don't run into problems with ambiguity. Thus far we've been using the temporary variable \"line\" because it's descriptive and intuitive, but we could opt for something else to achieve the same results. Here let's use \"item\":"
   ]
  },
  {
   "cell_type": "code",
   "execution_count": 4,
   "metadata": {},
   "outputs": [
    {
     "data": {
      "text/plain": [
       "['marred and with stint of petals, \\n',\n",
       " 'meagre flower, thin, \\n',\n",
       " 'more precious \\n']"
      ]
     },
     "execution_count": 4,
     "metadata": {},
     "output_type": "execute_result"
    }
   ],
   "source": [
    "[item for item in text if len(item) > 7 if item.startswith(\"m\")]"
   ]
  },
  {
   "cell_type": "code",
   "execution_count": 133,
   "metadata": {},
   "outputs": [
    {
     "data": {
      "text/plain": [
       "['Rose, harsh rose, \\n']"
      ]
     },
     "execution_count": 133,
     "metadata": {},
     "output_type": "execute_result"
    }
   ],
   "source": [
    "[item for item in text if item.startswith(\"R\")]"
   ]
  }
 ],
 "metadata": {
  "kernelspec": {
   "display_name": "Python 3",
   "language": "python",
   "name": "python3"
  },
  "language_info": {
   "codemirror_mode": {
    "name": "ipython",
    "version": 3
   },
   "file_extension": ".py",
   "mimetype": "text/x-python",
   "name": "python",
   "nbconvert_exporter": "python",
   "pygments_lexer": "ipython3",
   "version": "3.7.6"
  }
 },
 "nbformat": 4,
 "nbformat_minor": 2
}
